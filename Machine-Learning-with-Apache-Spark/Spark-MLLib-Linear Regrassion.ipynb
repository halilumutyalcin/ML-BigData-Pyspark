{
 "cells": [
  {
   "cell_type": "markdown",
   "metadata": {},
   "source": [
    "## Spark MLLib Linear Regrassion"
   ]
  },
  {
   "cell_type": "markdown",
   "metadata": {},
   "source": [
    "<strong> Linear Regression model to predict MPG (Miles Per Gallon)</strong>\n",
    "<ul style=\"list-style-type:square\">"
   ]
  },
  {
   "cell_type": "markdown",
   "metadata": {},
   "source": [
    "<strong> Description: </strong>\n",
    "<ul style=\"list-style-type:square\">\n",
    "  <li>Target variable : MPG</li>\n",
    "  <li>Features: CYLINDERS,DISPLACEMENT,HORSEPOWER,WEIGHT,ACCELERATION,MODELYEAR,NAME.</li>\n",
    "  <li>Model : Linear Regrassion</li>\n",
    "</ul>"
   ]
  },
  {
   "cell_type": "markdown",
   "metadata": {
    "collapsed": true
   },
   "source": [
    "We will use the car.csv file which has columns with different car makers, technical and non technical information about all of the cars.In addition, we will create a Spark Session to be able to use dataframes in this project. "
   ]
  },
  {
   "cell_type": "code",
   "execution_count": 1,
   "metadata": {
    "collapsed": true
   },
   "outputs": [],
   "source": [
    "# Spark-Session\n",
    "spSession = SparkSession.builder.master(\"local\").appName(\"Linear-Regression\").config(\"Some.config\",\"session\").getOrCreate()"
   ]
  },
  {
   "cell_type": "code",
   "execution_count": 2,
   "metadata": {
    "collapsed": true
   },
   "outputs": [],
   "source": [
    "#libraries\n",
    "# Row - to convert RDD into row objects\n",
    "from pyspark.sql import Row\n",
    "# Vectors - to build a dense vector\n",
    "from pyspark.ml.linalg import Vectors\n",
    "# Model\n",
    "from pyspark.ml.regression import LinearRegression\n",
    "from pyspark.ml.evaluation import RegressionEvaluator"
   ]
  },
  {
   "cell_type": "code",
   "execution_count": 3,
   "metadata": {},
   "outputs": [
    {
     "data": {
      "text/plain": [
       "['MPG,CYLINDERS,DISPLACEMENT,HORSEPOWER,WEIGHT,ACCELERATION,MODELYEAR,NAME',\n",
       " '18,8,307,130,3504,12,70,chevrolet chevelle malibu',\n",
       " '15,8,350,165,3693,11.5,70,buick skylark 320',\n",
       " '18,8,318,150,3436,11,70,plymouth satellite']"
      ]
     },
     "execution_count": 3,
     "metadata": {},
     "output_type": "execute_result"
    }
   ],
   "source": [
    "# Load data as RDD\n",
    "carRDD = sc.textFile(\"car.csv\")\n",
    "carRDD.take(4)"
   ]
  },
  {
   "cell_type": "code",
   "execution_count": 4,
   "metadata": {},
   "outputs": [
    {
     "data": {
      "text/plain": [
       "car.csv MapPartitionsRDD[1] at textFile at <unknown>:0"
      ]
     },
     "execution_count": 4,
     "metadata": {},
     "output_type": "execute_result"
    }
   ],
   "source": [
    "# If we are working with a large amount of data and in clusters, we can store the rdd in cache to have a better performance\n",
    "carRDD.cache()"
   ]
  },
  {
   "cell_type": "code",
   "execution_count": 5,
   "metadata": {},
   "outputs": [
    {
     "data": {
      "text/plain": [
       "['18,8,307,130,3504,12,70,chevrolet chevelle malibu',\n",
       " '15,8,350,165,3693,11.5,70,buick skylark 320',\n",
       " '18,8,318,150,3436,11,70,plymouth satellite',\n",
       " '16,8,304,150,3433,12,70,amc rebel sst']"
      ]
     },
     "execution_count": 5,
     "metadata": {},
     "output_type": "execute_result"
    }
   ],
   "source": [
    "# Remove the first row\n",
    "header = carRDD.first()\n",
    "carRDD2 = carRDD.filter(lambda x : x != header)\n",
    "# carRDD2 = carRDD.filter(lambda x : \"MPG\" not in x)\n",
    "carRDD2.take(4)"
   ]
  },
  {
   "cell_type": "markdown",
   "metadata": {
    "collapsed": true
   },
   "source": [
    "# Data Cleaning"
   ]
  },
  {
   "cell_type": "markdown",
   "metadata": {},
   "source": [
    "Let's find the mean of the MPG column to fill the blank columns with it."
   ]
  },
  {
   "cell_type": "code",
   "execution_count": 75,
   "metadata": {
    "collapsed": true
   },
   "outputs": [],
   "source": [
    "mssingHP = sc.broadcast(104.4)"
   ]
  },
  {
   "cell_type": "code",
   "execution_count": 76,
   "metadata": {
    "collapsed": true
   },
   "outputs": [],
   "source": [
    "# Convert string values into float\n",
    "def cleanData(inputString):\n",
    "    global missingHP\n",
    "    # Split in columns\n",
    "    attList = inputString.split(\",\")\n",
    "    \n",
    "    # Replace missing values (?) (HoursePower)\n",
    "    hpValue = attList[3]\n",
    "    if hpValue == \"?\":\n",
    "        hpValue = missingHP.value\n",
    "    \n",
    "    # Convert rdd into rows\n",
    "    row = Row(MPG = float(attList[0]), CYLINDERS = float(attList[1]), DISPLACEMENT = float(attList[2]), \n",
    "              HORSEPOWER = float(hpValue), WEIGHT = float(attList[4]), ACCELERATION =float(attList[5]),\n",
    "              MODELYEAR = float(attList[6]), NAME = attList[7])\n",
    "    return row"
   ]
  },
  {
   "cell_type": "code",
   "execution_count": 77,
   "metadata": {},
   "outputs": [
    {
     "data": {
      "text/plain": [
       "[Row(ACCELERATION=12.0, CYLINDERS=8.0, DISPLACEMENT=307.0, HORSEPOWER=130.0, MODELYEAR=70.0, MPG=18.0, NAME='chevrolet chevelle malibu', WEIGHT=3504.0),\n",
       " Row(ACCELERATION=11.5, CYLINDERS=8.0, DISPLACEMENT=350.0, HORSEPOWER=165.0, MODELYEAR=70.0, MPG=15.0, NAME='buick skylark 320', WEIGHT=3693.0),\n",
       " Row(ACCELERATION=11.0, CYLINDERS=8.0, DISPLACEMENT=318.0, HORSEPOWER=150.0, MODELYEAR=70.0, MPG=18.0, NAME='plymouth satellite', WEIGHT=3436.0)]"
      ]
     },
     "execution_count": 77,
     "metadata": {},
     "output_type": "execute_result"
    }
   ],
   "source": [
    "carRDD3 = carRDD2.map(cleanData)\n",
    "carRDD3.cache()\n",
    "carRDD3.take(3)"
   ]
  },
  {
   "cell_type": "markdown",
   "metadata": {},
   "source": [
    "## Data Exploration"
   ]
  },
  {
   "cell_type": "code",
   "execution_count": 78,
   "metadata": {},
   "outputs": [
    {
     "name": "stdout",
     "output_type": "stream",
     "text": [
      "+------------+---------+------------+----------+---------+----+--------------------+------+\n",
      "|ACCELERATION|CYLINDERS|DISPLACEMENT|HORSEPOWER|MODELYEAR| MPG|                NAME|WEIGHT|\n",
      "+------------+---------+------------+----------+---------+----+--------------------+------+\n",
      "|        12.0|      8.0|       307.0|     130.0|     70.0|18.0|chevrolet chevell...|3504.0|\n",
      "|        11.5|      8.0|       350.0|     165.0|     70.0|15.0|   buick skylark 320|3693.0|\n",
      "+------------+---------+------------+----------+---------+----+--------------------+------+\n",
      "only showing top 2 rows\n",
      "\n"
     ]
    }
   ],
   "source": [
    "carDF = spSession.createDataFrame(carRDD3)\n",
    "carDF.show(2)"
   ]
  },
  {
   "cell_type": "code",
   "execution_count": 79,
   "metadata": {},
   "outputs": [
    {
     "name": "stdout",
     "output_type": "stream",
     "text": [
      "+-------+-----------------+------------------+------------------+\n",
      "|summary|              MPG|         CYLINDERS|        HORSEPOWER|\n",
      "+-------+-----------------+------------------+------------------+\n",
      "|  count|              398|               398|               398|\n",
      "|   mean|23.51457286432161| 5.454773869346734|104.45326633165827|\n",
      "| stddev|7.815984312565782|1.7010042445332125| 38.19941019081801|\n",
      "|    min|              9.0|               3.0|              46.0|\n",
      "|    max|             46.6|               8.0|             230.0|\n",
      "+-------+-----------------+------------------+------------------+\n",
      "\n"
     ]
    }
   ],
   "source": [
    "# Some Statistics\n",
    "carDF.select(\"MPG\", \"CYLINDERS\",\"HORSEPOWER\").describe().show()\n"
   ]
  },
  {
   "cell_type": "code",
   "execution_count": 80,
   "metadata": {},
   "outputs": [
    {
     "name": "stdout",
     "output_type": "stream",
     "text": [
      "Correlation between MPG and ACCELERATION 0.42028891210165004\n",
      "Correlation between MPG and CYLINDERS -0.7753962854205548\n",
      "Correlation between MPG and DISPLACEMENT -0.8042028248058979\n",
      "Correlation between MPG and HORSEPOWER -0.7716754412116528\n",
      "Correlation between MPG and MODELYEAR 0.5792671330833091\n",
      "Correlation between MPG and MPG 1.0\n",
      "Correlation between MPG and WEIGHT -0.8317409332443347\n"
     ]
    }
   ],
   "source": [
    "# Correlation between the target and the features\n",
    "for i in carDF.columns:\n",
    "    if not(isinstance(carDF.select(i).take(1)[0][0], str)):\n",
    "        print('Correlation between MPG and', i , carDF.stat.corr('MPG', i))\n",
    "    "
   ]
  },
  {
   "cell_type": "markdown",
   "metadata": {},
   "source": [
    "# Pre-Processing"
   ]
  },
  {
   "cell_type": "markdown",
   "metadata": {},
   "source": [
    "When we are working with MLLib, we have to convert the data into a labelpoint. Let's do it with the target ant 3 other features."
   ]
  },
  {
   "cell_type": "code",
   "execution_count": 81,
   "metadata": {
    "collapsed": true
   },
   "outputs": [],
   "source": [
    "#Convert data into a LabelPoint(target, Vector[features])\n",
    "#Remove columns with no relevance (not significant correlation)\n",
    "def transformVar(row):\n",
    "    obj = (row[\"MPG\"], Vectors.dense([row[\"ACCELERATION\"], row[\"DISPLACEMENT\"], row[\"WEIGHT\"]]))\n",
    "    return obj"
   ]
  },
  {
   "cell_type": "code",
   "execution_count": 82,
   "metadata": {},
   "outputs": [
    {
     "data": {
      "text/plain": [
       "[(18.0, DenseVector([12.0, 307.0, 3504.0])),\n",
       " (15.0, DenseVector([11.5, 350.0, 3693.0])),\n",
       " (18.0, DenseVector([11.0, 318.0, 3436.0])),\n",
       " (16.0, DenseVector([12.0, 304.0, 3433.0]))]"
      ]
     },
     "execution_count": 82,
     "metadata": {},
     "output_type": "execute_result"
    }
   ],
   "source": [
    "# Create a LabelPoint RDD\n",
    "carRDD4 = carRDD3.map(transformVar)\n",
    "carRDD4.take(4)"
   ]
  },
  {
   "cell_type": "code",
   "execution_count": 83,
   "metadata": {},
   "outputs": [
    {
     "name": "stdout",
     "output_type": "stream",
     "text": [
      "+-----+-------------------+\n",
      "|label|           features|\n",
      "+-----+-------------------+\n",
      "| 18.0|[12.0,307.0,3504.0]|\n",
      "| 15.0|[11.5,350.0,3693.0]|\n",
      "| 18.0|[11.0,318.0,3436.0]|\n",
      "| 16.0|[12.0,304.0,3433.0]|\n",
      "| 17.0|[10.5,302.0,3449.0]|\n",
      "+-----+-------------------+\n",
      "only showing top 5 rows\n",
      "\n"
     ]
    }
   ],
   "source": [
    "#Convert the labelPoint into a DF\n",
    "carDF = spSession.createDataFrame(carRDD4,['label','features'])\n",
    "carDF.select(\"label\", \"features\").show(5)"
   ]
  },
  {
   "cell_type": "markdown",
   "metadata": {},
   "source": [
    "## Machine Learning"
   ]
  },
  {
   "cell_type": "code",
   "execution_count": 84,
   "metadata": {
    "collapsed": true
   },
   "outputs": [],
   "source": [
    "# Training and test dataset - 70 % training and 30 % test set\n",
    "(training_set, test_set) = carDF.randomSplit([0.7,0.3])"
   ]
  },
  {
   "cell_type": "code",
   "execution_count": 85,
   "metadata": {},
   "outputs": [
    {
     "data": {
      "text/plain": [
       "283"
      ]
     },
     "execution_count": 85,
     "metadata": {},
     "output_type": "execute_result"
    }
   ],
   "source": [
    "training_set.count()"
   ]
  },
  {
   "cell_type": "code",
   "execution_count": 86,
   "metadata": {},
   "outputs": [
    {
     "data": {
      "text/plain": [
       "115"
      ]
     },
     "execution_count": 86,
     "metadata": {},
     "output_type": "execute_result"
    }
   ],
   "source": [
    "test_set.count()"
   ]
  },
  {
   "cell_type": "code",
   "execution_count": 87,
   "metadata": {
    "collapsed": true
   },
   "outputs": [],
   "source": [
    "# Model\n",
    "LinearReg = LinearRegression(maxIter= 10)\n",
    "model = LinearReg.fit(training_set)"
   ]
  },
  {
   "cell_type": "code",
   "execution_count": 88,
   "metadata": {},
   "outputs": [
    {
     "name": "stdout",
     "output_type": "stream",
     "text": [
      "Coefficients:[0.142733417628,-0.00815978275216,-0.00647910301793]\n",
      "Intercept:42.0178854680663\n"
     ]
    }
   ],
   "source": [
    "# Coefficients and Interception\n",
    "print(\"Coefficients:\"+ str(model.coefficients))\n",
    "print(\"Intercept:\"+ str(model.intercept))"
   ]
  },
  {
   "cell_type": "code",
   "execution_count": 89,
   "metadata": {},
   "outputs": [
    {
     "name": "stdout",
     "output_type": "stream",
     "text": [
      "+------------------+-------------------+\n",
      "|        prediction|           features|\n",
      "+------------------+-------------------+\n",
      "|11.177571096315429|[14.0,360.0,4615.0]|\n",
      "|13.301278621094092|[15.0,307.0,4376.0]|\n",
      "|12.958546266270787|[13.5,318.0,4382.0]|\n",
      "|  7.79721286795052|[11.0,455.0,4951.0]|\n",
      "| 8.430167522848372|[11.5,383.0,4955.0]|\n",
      "| 8.074254825302752|[11.5,429.0,4952.0]|\n",
      "|15.893778639670948|[11.0,360.0,3821.0]|\n",
      "| 20.73415462461704|[12.0,302.0,3169.0]|\n",
      "|  7.16418386655787|[12.0,400.0,5140.0]|\n",
      "| 14.45317356044496|[13.0,350.0,4100.0]|\n",
      "|12.741009683976227|[13.0,351.0,4363.0]|\n",
      "|14.959735842451714|[14.0,307.0,4098.0]|\n",
      "| 11.70292289362271| [8.5,440.0,4312.0]|\n",
      "|14.740203020585856|[13.0,318.0,4096.0]|\n",
      "|14.257119790172716|[13.0,351.0,4129.0]|\n",
      "|15.006039395554549|[14.0,318.0,4077.0]|\n",
      "|11.787285961784214|[16.0,302.0,4638.0]|\n",
      "|13.671370247104829|[12.8,351.0,4215.0]|\n",
      "|18.970670988829752|[11.0,318.0,3399.0]|\n",
      "|16.876068362302057|[11.5,350.0,3693.0]|\n",
      "+------------------+-------------------+\n",
      "only showing top 20 rows\n",
      "\n"
     ]
    }
   ],
   "source": [
    "# Predicting MPG with test dataset\n",
    "predictions = model.transform(test_set)\n",
    "predictions.select(\"prediction\", \"features\").show()"
   ]
  },
  {
   "cell_type": "code",
   "execution_count": 90,
   "metadata": {},
   "outputs": [
    {
     "data": {
      "text/plain": [
       "0.6882357676429178"
      ]
     },
     "execution_count": 90,
     "metadata": {},
     "output_type": "execute_result"
    }
   ],
   "source": [
    "# Coefficient of determination (r2) to evaluate the model\n",
    "evaluator = RegressionEvaluator(predictionCol=\"prediction\", labelCol=\"label\", metricName=\"r2\")\n",
    "evaluator.evaluate(predictions)\n"
   ]
  }
 ],
 "metadata": {
  "kernelspec": {
   "display_name": "Python 3",
   "language": "python",
   "name": "python3"
  },
  "language_info": {
   "codemirror_mode": {
    "name": "ipython",
    "version": 3
   },
   "file_extension": ".py",
   "mimetype": "text/x-python",
   "name": "python",
   "nbconvert_exporter": "python",
   "pygments_lexer": "ipython3",
   "version": "3.6.1"
  }
 },
 "nbformat": 4,
 "nbformat_minor": 2
}
