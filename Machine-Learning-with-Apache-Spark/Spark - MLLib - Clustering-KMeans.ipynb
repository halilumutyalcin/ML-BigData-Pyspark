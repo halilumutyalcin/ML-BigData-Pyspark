{
 "cells": [
  {
   "cell_type": "markdown",
   "metadata": {},
   "source": [
    "## Clustering - K-Means"
   ]
  },
  {
   "cell_type": "markdown",
   "metadata": {},
   "source": [
    "<strong> Clustering - K-Means </strong>\n",
    "<ul style=\"list-style-type:square\">\n",
    "  <li>Features :BODY, DOORS, HP, MPG,RPM </li>\n",
    "  <li>Model : K-means </li>\n",
    "      <li>Goal : Clustering the cars according to similarity</li>\n",
    "</ul>"
   ]
  },
  {
   "cell_type": "code",
   "execution_count": 1,
   "metadata": {
    "collapsed": true
   },
   "outputs": [],
   "source": [
    "#Spark Session\n",
    "spSession = SparkSession.builder.master(\"local\").appName(\"kMean\").config(\"some.config\").getOrCreate()"
   ]
  },
  {
   "cell_type": "code",
   "execution_count": 2,
   "metadata": {
    "collapsed": true
   },
   "outputs": [],
   "source": [
    "#Libraries\n",
    "import math\n",
    "from pyspark.sql import Row\n",
    "from pyspark.ml.linalg import Vectors\n",
    "from pyspark.ml.clustering import KMeans\n",
    "import pandas as pd\n",
    "import matplotlib.pylab as plt\n",
    "%matplotlib inline"
   ]
  },
  {
   "cell_type": "code",
   "execution_count": 3,
   "metadata": {},
   "outputs": [
    {
     "data": {
      "text/plain": [
       "car2.csv MapPartitionsRDD[1] at textFile at <unknown>:0"
      ]
     },
     "execution_count": 3,
     "metadata": {},
     "output_type": "execute_result"
    }
   ],
   "source": [
    "# Import CSV file and Store the rdd in cache\n",
    "carRDD = sc.textFile(\"car2.csv\")\n",
    "carRDD.cache()"
   ]
  },
  {
   "cell_type": "code",
   "execution_count": 4,
   "metadata": {
    "scrolled": false
   },
   "outputs": [
    {
     "data": {
      "text/plain": [
       "['MAKE,FUELTYPE,ASPIRE,DOORS,BODY,DRIVE,CYLINDERS,HP,RPM,MPG-CITY,MPG-HWY,PRICE',\n",
       " 'subaru,gas,std,two,hatchback,fwd,four,69,4900,31,36,5118',\n",
       " 'chevrolet,gas,std,two,hatchback,fwd,three,48,5100,47,53,5151',\n",
       " 'mazda,gas,std,two,hatchback,fwd,four,68,5000,30,31,5195',\n",
       " 'toyota,gas,std,two,hatchback,fwd,four,62,4800,35,39,5348',\n",
       " 'mitsubishi,gas,std,two,hatchback,fwd,four,68,5500,37,41,5389',\n",
       " 'honda,gas,std,two,hatchback,fwd,four,60,5500,38,42,5399',\n",
       " 'nissan,gas,std,two,sedan,fwd,four,69,5200,31,37,5499',\n",
       " 'dodge,gas,std,two,hatchback,fwd,four,68,5500,37,41,5572',\n",
       " 'plymouth,gas,std,two,hatchback,fwd,four,68,5500,37,41,5572',\n",
       " 'mazda,gas,std,two,hatchback,fwd,four,68,5000,31,38,6095',\n",
       " 'mitsubishi,gas,std,two,hatchback,fwd,four,68,5500,31,38,6189',\n",
       " 'dodge,gas,std,four,hatchback,fwd,four,68,5500,31,38,6229',\n",
       " 'plymouth,gas,std,four,hatchback,fwd,four,68,5500,31,38,6229',\n",
       " 'chevrolet,gas,std,two,hatchback,fwd,four,70,5400,38,43,6295',\n",
       " 'toyota,gas,std,two,hatchback,fwd,four,62,4800,31,38,6338',\n",
       " 'dodge,gas,std,two,hatchback,fwd,four,68,5500,31,38,6377',\n",
       " 'honda,gas,std,two,hatchback,fwd,four,58,4800,49,54,6479',\n",
       " 'toyota,gas,std,four,hatchback,fwd,four,62,4800,31,38,6488',\n",
       " 'honda,gas,std,two,hatchback,fwd,four,76,6000,30,34,6529',\n",
       " 'chevrolet,gas,std,four,sedan,fwd,four,70,5400,38,43,6575',\n",
       " 'nissan,gas,std,two,sedan,fwd,four,69,5200,31,37,6649',\n",
       " 'mitsubishi,gas,std,two,hatchback,fwd,four,68,5500,31,38,6669',\n",
       " 'dodge,gas,std,four,sedan,fwd,four,68,5500,31,38,6692',\n",
       " 'plymouth,gas,std,four,sedan,fwd,four,68,5500,31,38,6692',\n",
       " 'mazda,gas,std,four,sedan,fwd,four,68,5000,31,38,6695',\n",
       " 'isuzu,gas,std,four,sedan,rwd,four,78,4800,24,29,6785',\n",
       " 'mazda,gas,std,two,hatchback,fwd,four,68,5000,31,38,6795',\n",
       " 'nissan,gas,std,four,sedan,fwd,four,69,5200,31,37,6849',\n",
       " 'honda,gas,std,two,hatchback,fwd,four,76,6000,31,38,6855',\n",
       " 'toyota,gas,std,four,wagon,fwd,four,62,4800,31,37,6918',\n",
       " 'toyota,gas,std,four,sedan,fwd,four,70,4800,30,37,6938',\n",
       " 'mitsubishi,gas,std,four,sedan,fwd,four,88,5000,25,32,6989',\n",
       " 'subaru,gas,std,two,hatchback,fwd,four,73,4400,26,31,7053',\n",
       " 'nissan,diesel,std,two,sedan,fwd,four,55,4800,45,50,7099',\n",
       " 'subaru,gas,std,four,sedan,fwd,four,82,4800,32,37,7126',\n",
       " 'honda,gas,std,two,hatchback,fwd,four,76,6000,30,34,7129',\n",
       " 'toyota,gas,std,four,hatchback,fwd,four,70,4800,30,37,7198',\n",
       " 'honda,gas,std,four,sedan,fwd,four,76,6000,30,34,7295',\n",
       " 'honda,gas,std,four,wagon,fwd,four,76,6000,30,34,7295',\n",
       " 'nissan,gas,std,two,sedan,fwd,four,69,5200,31,37,7299',\n",
       " 'nissan,gas,std,four,wagon,fwd,four,69,5200,31,37,7349',\n",
       " 'mazda,gas,std,four,sedan,fwd,four,68,5000,31,38,7395',\n",
       " 'subaru,gas,std,four,wagon,fwd,four,82,4800,28,32,7463',\n",
       " 'nissan,gas,std,four,sedan,fwd,four,69,5200,31,37,7499',\n",
       " 'subaru,gas,std,two,hatchback,4wd,four,73,4400,26,31,7603',\n",
       " 'dodge,gas,std,four,sedan,fwd,four,68,5500,31,38,7609',\n",
       " 'plymouth,gas,std,four,sedan,fwd,four,68,5500,31,38,7609',\n",
       " 'mitsubishi,gas,turbo,two,hatchback,fwd,four,102,5500,24,30,7689',\n",
       " 'toyota,gas,std,four,sedan,fwd,four,70,4800,38,47,7738',\n",
       " 'subaru,gas,std,four,sedan,fwd,four,82,4400,28,33,7775',\n",
       " 'volkswagen,diesel,std,two,sedan,fwd,four,52,4800,37,46,7775',\n",
       " 'toyota,diesel,std,four,hatchback,fwd,four,56,4500,38,47,7788',\n",
       " 'nissan,gas,std,two,hatchback,fwd,four,69,5200,31,37,7799',\n",
       " 'honda,gas,std,two,hatchback,fwd,four,86,5800,27,33,7895',\n",
       " 'toyota,gas,std,four,wagon,4wd,four,62,4800,27,32,7898',\n",
       " 'toyota,diesel,std,four,sedan,fwd,four,56,4500,34,36,7898',\n",
       " 'dodge,gas,turbo,two,hatchback,fwd,four,102,5500,24,30,7957',\n",
       " 'plymouth,gas,turbo,two,hatchback,fwd,four,102,5500,24,30,7957',\n",
       " 'volkswagen,gas,std,two,sedan,fwd,four,85,5250,27,34,7975',\n",
       " 'volkswagen,diesel,std,four,sedan,fwd,four,52,4800,37,46,7995',\n",
       " 'nissan,gas,std,four,wagon,fwd,four,69,5200,31,37,7999',\n",
       " 'subaru,gas,std,four,wagon,4wd,four,82,4800,23,29,8013',\n",
       " 'toyota,gas,std,two,sedan,rwd,four,70,4800,29,34,8058',\n",
       " 'mitsubishi,gas,std,four,sedan,fwd,four,88,5000,25,32,8189',\n",
       " 'volkswagen,gas,std,four,sedan,fwd,four,85,5250,27,34,8195',\n",
       " 'toyota,gas,std,two,hatchback,rwd,four,70,4800,29,34,8238',\n",
       " 'nissan,gas,std,two,hardtop,fwd,four,69,5200,31,37,8249',\n",
       " 'toyota,gas,std,four,hatchback,fwd,four,70,4800,28,34,8358',\n",
       " 'toyota,gas,std,two,hardtop,rwd,four,116,4800,24,30,8449',\n",
       " 'mazda,gas,std,four,sedan,fwd,four,84,4800,26,32,8495',\n",
       " 'volkswagen,gas,std,four,sedan,fwd,four,85,5250,27,34,8495',\n",
       " 'mitsubishi,gas,std,two,hatchback,fwd,four,88,5000,25,32,8499',\n",
       " 'toyota,gas,std,four,wagon,4wd,four,62,4800,27,32,8778',\n",
       " 'honda,gas,std,four,sedan,fwd,four,86,5800,27,33,8845',\n",
       " 'mazda,gas,std,two,hatchback,fwd,four,84,4800,26,32,8845',\n",
       " 'dodge,gas,std,four,wagon,fwd,four,88,5000,24,30,8921',\n",
       " 'plymouth,gas,std,four,wagon,fwd,four,88,5000,24,30,8921',\n",
       " 'toyota,gas,std,four,sedan,fwd,four,92,4200,29,34,8948',\n",
       " 'nissan,gas,std,four,hatchback,fwd,four,97,5200,27,34,8949',\n",
       " 'honda,gas,std,two,hatchback,fwd,four,86,5800,27,33,9095',\n",
       " 'subaru,gas,std,four,sedan,4wd,four,82,4800,24,25,9233',\n",
       " 'toyota,gas,std,four,sedan,fwd,four,70,4800,28,34,9258',\n",
       " 'mitsubishi,gas,turbo,four,sedan,fwd,four,116,5500,23,30,9279',\n",
       " 'mitsubishi,gas,std,four,sedan,fwd,four,116,5500,23,30,9279',\n",
       " 'toyota,gas,std,two,sedan,rwd,four,112,6600,26,29,9298',\n",
       " 'volkswagen,diesel,turbo,four,sedan,fwd,four,68,4500,37,42,9495',\n",
       " 'toyota,gas,std,two,hatchback,rwd,four,112,6600,26,29,9538',\n",
       " 'nissan,gas,std,four,sedan,fwd,four,97,5200,27,34,9549',\n",
       " 'toyota,gas,std,two,hardtop,rwd,four,116,4800,24,30,9639',\n",
       " 'mitsubishi,gas,turbo,two,hatchback,fwd,four,116,5500,23,30,9959',\n",
       " 'subaru,gas,std,four,sedan,fwd,four,94,5200,26,32,9960',\n",
       " 'volkswagen,gas,std,two,hatchback,fwd,four,90,5500,24,29,9980',\n",
       " 'toyota,gas,std,four,hatchback,fwd,four,92,4200,27,32,9988',\n",
       " 'toyota,gas,std,two,hatchback,rwd,four,116,4800,24,30,9989',\n",
       " 'volkswagen,gas,std,four,sedan,fwd,four,100,5500,26,32,9995',\n",
       " 'subaru,gas,std,four,wagon,fwd,four,94,5200,25,31,10198',\n",
       " 'mazda,gas,std,four,sedan,fwd,four,84,4800,26,32,10245',\n",
       " 'honda,gas,std,four,sedan,fwd,four,86,5800,27,33,10295',\n",
       " 'honda,gas,std,two,sedan,fwd,four,100,5500,25,31,10345',\n",
       " 'mazda,gas,std,two,hatchback,fwd,four,84,4800,26,32,10595',\n",
       " 'toyota,diesel,turbo,four,sedan,fwd,four,73,4500,30,33,10698',\n",
       " 'toyota,gas,std,four,sedan,fwd,four,92,4200,27,32,10898',\n",
       " 'mazda,gas,std,two,hatchback,rwd,two,101,6000,17,23,10945',\n",
       " 'isuzu,gas,std,two,hatchback,rwd,four,90,5000,24,29,11048',\n",
       " 'toyota,gas,std,two,hardtop,rwd,four,116,4800,24,30,11199',\n",
       " 'mazda,gas,std,four,hatchback,fwd,four,84,4800,26,32,11245',\n",
       " 'toyota,gas,std,four,hatchback,fwd,four,92,4200,27,32,11248',\n",
       " 'subaru,gas,turbo,four,sedan,4wd,four,111,4800,24,29,11259',\n",
       " 'toyota,gas,std,two,hatchback,rwd,four,116,4800,24,30,11549',\n",
       " 'volkswagen,gas,std,two,convertible,fwd,four,90,5500,24,29,11595',\n",
       " 'subaru,gas,turbo,four,wagon,4wd,four,111,4800,23,23,11694',\n",
       " 'mazda,gas,std,two,hatchback,rwd,two,101,6000,17,23,11845',\n",
       " 'saab,gas,std,two,hatchback,fwd,four,110,5250,21,28,11850',\n",
       " 'peugot,gas,std,four,sedan,rwd,four,97,5000,19,24,11900',\n",
       " 'saab,gas,std,four,sedan,fwd,four,110,5250,21,28,12170',\n",
       " 'volkswagen,gas,std,four,wagon,fwd,four,88,5500,25,31,12290',\n",
       " 'peugot,gas,std,four,wagon,rwd,four,97,5000,19,24,12440',\n",
       " 'mitsubishi,gas,turbo,two,hatchback,fwd,four,145,5000,19,24,12629',\n",
       " 'plymouth,gas,turbo,two,hatchback,rwd,four,145,5000,19,24,12764',\n",
       " 'volvo,gas,std,four,sedan,rwd,four,114,5400,23,28,12940',\n",
       " 'honda,gas,std,four,sedan,fwd,four,101,5800,24,28,12945',\n",
       " 'dodge,gas,turbo,two,hatchback,fwd,four,145,5000,19,24,12964',\n",
       " 'peugot,diesel,turbo,four,sedan,rwd,four,95,4150,28,33,13200',\n",
       " 'volkswagen,gas,std,four,sedan,fwd,five,110,5500,19,24,13295',\n",
       " 'volvo,gas,std,four,wagon,rwd,four,114,5400,23,28,13415',\n",
       " 'alfa-romero,gas,std,two,convertible,rwd,four,111,5000,21,27,13495',\n",
       " 'nissan,gas,std,four,sedan,fwd,six,152,5200,17,22,13499',\n",
       " 'nissan,gas,std,four,sedan,fwd,six,152,5200,19,25,13499',\n",
       " 'mazda,gas,std,two,hatchback,rwd,two,101,6000,17,23,13645',\n",
       " 'volkswagen,diesel,turbo,four,sedan,fwd,four,68,4500,33,38,13845',\n",
       " 'peugot,diesel,turbo,four,wagon,rwd,four,95,4150,25,25,13860',\n",
       " 'audi,gas,std,four,sedan,fwd,four,102,5500,24,30,13950',\n",
       " 'nissan,gas,std,four,wagon,fwd,six,152,5200,17,22,14399',\n",
       " 'mitsubishi,gas,turbo,two,hatchback,fwd,four,145,5000,19,24,14489',\n",
       " 'mitsubishi,gas,turbo,two,hatchback,fwd,four,145,5000,19,24,14869',\n",
       " 'saab,gas,std,two,hatchback,fwd,four,110,5250,21,28,15040',\n",
       " 'audi,gas,std,two,sedan,fwd,five,110,5500,19,25,15250',\n",
       " 'saab,gas,std,four,sedan,fwd,four,110,5250,21,28,15510',\n",
       " 'peugot,gas,std,four,sedan,rwd,four,95,5000,19,24,15580',\n",
       " 'mazda,gas,std,two,hatchback,rwd,two,135,6000,16,23,15645',\n",
       " 'toyota,gas,std,four,sedan,rwd,six,156,5200,20,24,15690',\n",
       " 'toyota,gas,std,four,wagon,rwd,six,156,5200,19,24,15750',\n",
       " 'volvo,gas,std,four,sedan,rwd,four,114,5400,24,28,15985',\n",
       " 'toyota,gas,std,two,hatchback,rwd,six,161,5200,19,24,15998',\n",
       " 'bmw,gas,std,two,sedan,rwd,four,101,5800,23,29,16430',\n",
       " 'alfa-romero,gas,std,two,convertible,rwd,four,111,5000,21,27,16500',\n",
       " 'alfa-romero,gas,std,two,hatchback,rwd,six,154,5000,19,26,16500',\n",
       " 'mercury,gas,turbo,two,hatchback,rwd,four,175,5000,19,24,16503',\n",
       " 'volvo,gas,std,four,wagon,rwd,four,114,5400,24,28,16515',\n",
       " 'toyota,gas,std,two,hatchback,rwd,six,161,5200,20,24,16558',\n",
       " 'peugot,gas,std,four,sedan,rwd,four,97,5000,19,24,16630',\n",
       " 'peugot,gas,std,four,wagon,rwd,four,95,5000,19,24,16695',\n",
       " 'volvo,gas,std,four,sedan,rwd,four,114,5400,23,28,16845',\n",
       " 'peugot,diesel,turbo,four,sedan,rwd,four,95,4150,28,33,16900',\n",
       " 'bmw,gas,std,four,sedan,rwd,four,101,5800,23,29,16925',\n",
       " 'peugot,diesel,turbo,four,wagon,rwd,four,95,4150,25,25,17075',\n",
       " 'nissan,gas,std,two,hatchback,rwd,six,160,5200,19,25,17199',\n",
       " 'audi,gas,std,four,sedan,4wd,five,115,5500,18,22,17450',\n",
       " 'toyota,gas,std,two,convertible,rwd,four,116,4800,24,30,17669',\n",
       " 'audi,gas,std,four,sedan,fwd,five,110,5500,19,25,17710',\n",
       " 'peugot,diesel,turbo,four,sedan,rwd,four,95,4150,28,33,17950',\n",
       " 'peugot,gas,turbo,four,sedan,rwd,four,142,5600,18,24,18150',\n",
       " 'saab,gas,turbo,two,hatchback,fwd,four,160,5500,19,26,18150',\n",
       " 'mazda,gas,std,four,sedan,rwd,four,120,5000,19,27,18280',\n",
       " 'mazda,diesel,std,four,sedan,rwd,four,72,4200,31,39,18344',\n",
       " 'nissan,gas,std,two,hatchback,rwd,six,160,5200,19,25,18399',\n",
       " 'volvo,gas,turbo,four,sedan,rwd,four,162,5100,17,22,18420',\n",
       " 'saab,gas,turbo,four,sedan,fwd,four,160,5500,19,26,18620',\n",
       " 'audi,gas,std,four,wagon,fwd,five,110,5500,19,25,18920',\n",
       " 'volvo,gas,turbo,four,wagon,rwd,four,162,5100,17,22,18950',\n",
       " 'volvo,gas,turbo,four,sedan,rwd,four,160,5300,19,25,19045',\n",
       " 'nissan,gas,turbo,two,hatchback,rwd,six,200,5200,17,23,19699',\n",
       " 'bmw,gas,std,two,sedan,rwd,six,121,4250,21,28,20970',\n",
       " 'bmw,gas,std,four,sedan,rwd,six,121,4250,21,28,21105',\n",
       " 'volvo,gas,std,four,sedan,rwd,six,134,5500,18,23,21485',\n",
       " 'porsche,gas,std,two,hatchback,rwd,four,143,5500,19,27,22018',\n",
       " 'volvo,diesel,turbo,four,sedan,rwd,six,106,4800,26,27,22470',\n",
       " 'volvo,gas,turbo,four,sedan,rwd,four,114,5400,19,25,22625',\n",
       " 'audi,gas,turbo,four,sedan,fwd,five,140,5500,17,20,23875',\n",
       " 'bmw,gas,std,four,sedan,rwd,six,121,4250,20,25,24565',\n",
       " 'mercedes-benz,diesel,turbo,four,sedan,rwd,five,123,4350,22,25,25552',\n",
       " 'mercedes-benz,diesel,turbo,two,hardtop,rwd,five,123,4350,22,25,28176',\n",
       " 'mercedes-benz,diesel,turbo,four,wagon,rwd,five,123,4350,22,25,28248',\n",
       " 'bmw,gas,std,four,sedan,rwd,six,182,5400,16,22,30760',\n",
       " 'mercedes-benz,diesel,turbo,four,sedan,rwd,five,123,4350,22,25,31600',\n",
       " 'jaguar,gas,std,four,sedan,rwd,six,176,4750,15,19,32250',\n",
       " 'porsche,gas,std,two,hardtop,rwd,six,207,5900,17,25,32528',\n",
       " 'porsche,gas,std,two,hardtop,rwd,six,207,5900,17,25,34028',\n",
       " 'mercedes-benz,gas,std,four,sedan,rwd,eight,155,4750,16,18,34184',\n",
       " 'mercedes-benz,gas,std,two,convertible,rwd,eight,155,4750,16,18,35056',\n",
       " 'jaguar,gas,std,four,sedan,rwd,six,176,4750,15,19,35550',\n",
       " 'jaguar,gas,std,two,sedan,rwd,twelve,262,5000,13,17,36000',\n",
       " 'bmw,gas,std,four,sedan,rwd,six,182,5400,15,20,36880',\n",
       " 'porsche,gas,std,two,convertible,rwd,six,207,5900,17,25,37028',\n",
       " 'mercedes-benz,gas,std,four,sedan,rwd,eight,184,4500,14,16,40960',\n",
       " 'bmw,gas,std,two,sedan,rwd,six,182,5400,16,22,41315',\n",
       " 'mercedes-benz,gas,std,two,hardtop,rwd,eight,184,4500,14,16,45400']"
      ]
     },
     "execution_count": 4,
     "metadata": {},
     "output_type": "execute_result"
    }
   ],
   "source": [
    "carRDD.collect()"
   ]
  },
  {
   "cell_type": "code",
   "execution_count": 5,
   "metadata": {},
   "outputs": [
    {
     "data": {
      "text/plain": [
       "['subaru,gas,std,two,hatchback,fwd,four,69,4900,31,36,5118',\n",
       " 'chevrolet,gas,std,two,hatchback,fwd,three,48,5100,47,53,5151']"
      ]
     },
     "execution_count": 5,
     "metadata": {},
     "output_type": "execute_result"
    }
   ],
   "source": [
    "# Remove header\n",
    "header = carRDD.first()\n",
    "carRDD2 = carRDD.filter(lambda x : x not in header)\n",
    "carRDD2.take(2)"
   ]
  },
  {
   "cell_type": "code",
   "execution_count": 6,
   "metadata": {
    "collapsed": true
   },
   "outputs": [],
   "source": [
    "# Set numeric label and create row objects\n",
    "def transformToNumeric(inputStr):\n",
    "    # Split columns\n",
    "    attList = inputStr.split(\",\")\n",
    "    \n",
    "    # Numeric Label\n",
    "    doors = 1.0 if attList[3] == \"two\" else 2.0\n",
    "    body = 1.0 if attList[4] == \"sedan\" else 2.0\n",
    "    \n",
    "    # row object\n",
    "    row = Row( DOORS = doors, BODY = body, HP = float(attList[7]), RPM = float(attList[8]), MPG = float(attList[9]))\n",
    "    return row"
   ]
  },
  {
   "cell_type": "code",
   "execution_count": 7,
   "metadata": {},
   "outputs": [
    {
     "data": {
      "text/plain": [
       "[Row(BODY=2.0, DOORS=1.0, HP=69.0, MPG=31.0, RPM=4900.0),\n",
       " Row(BODY=2.0, DOORS=1.0, HP=48.0, MPG=47.0, RPM=5100.0),\n",
       " Row(BODY=2.0, DOORS=1.0, HP=68.0, MPG=30.0, RPM=5000.0)]"
      ]
     },
     "execution_count": 7,
     "metadata": {},
     "output_type": "execute_result"
    }
   ],
   "source": [
    "carRDD3 = carRDD2.map(transformToNumeric)\n",
    "carRDD3.persist()\n",
    "carRDD3.take(3)"
   ]
  },
  {
   "cell_type": "code",
   "execution_count": 8,
   "metadata": {},
   "outputs": [
    {
     "name": "stdout",
     "output_type": "stream",
     "text": [
      "+----+-----+----+----+------+\n",
      "|BODY|DOORS|  HP| MPG|   RPM|\n",
      "+----+-----+----+----+------+\n",
      "| 2.0|  1.0|69.0|31.0|4900.0|\n",
      "| 2.0|  1.0|48.0|47.0|5100.0|\n",
      "| 2.0|  1.0|68.0|30.0|5000.0|\n",
      "| 2.0|  1.0|62.0|35.0|4800.0|\n",
      "| 2.0|  1.0|68.0|37.0|5500.0|\n",
      "| 2.0|  1.0|60.0|38.0|5500.0|\n",
      "| 1.0|  1.0|69.0|31.0|5200.0|\n",
      "| 2.0|  1.0|68.0|37.0|5500.0|\n",
      "| 2.0|  1.0|68.0|37.0|5500.0|\n",
      "| 2.0|  1.0|68.0|31.0|5000.0|\n",
      "| 2.0|  1.0|68.0|31.0|5500.0|\n",
      "| 2.0|  2.0|68.0|31.0|5500.0|\n",
      "| 2.0|  2.0|68.0|31.0|5500.0|\n",
      "| 2.0|  1.0|70.0|38.0|5400.0|\n",
      "| 2.0|  1.0|62.0|31.0|4800.0|\n",
      "| 2.0|  1.0|68.0|31.0|5500.0|\n",
      "| 2.0|  1.0|58.0|49.0|4800.0|\n",
      "| 2.0|  2.0|62.0|31.0|4800.0|\n",
      "| 2.0|  1.0|76.0|30.0|6000.0|\n",
      "| 1.0|  2.0|70.0|38.0|5400.0|\n",
      "+----+-----+----+----+------+\n",
      "only showing top 20 rows\n",
      "\n"
     ]
    }
   ],
   "source": [
    "# Create DF\n",
    "carDF = spSession.createDataFrame(carRDD3)\n",
    "carDF.show()"
   ]
  },
  {
   "cell_type": "code",
   "execution_count": 9,
   "metadata": {},
   "outputs": [
    {
     "data": {
      "text/html": [
       "<div>\n",
       "<style>\n",
       "    .dataframe thead tr:only-child th {\n",
       "        text-align: right;\n",
       "    }\n",
       "\n",
       "    .dataframe thead th {\n",
       "        text-align: left;\n",
       "    }\n",
       "\n",
       "    .dataframe tbody tr th {\n",
       "        vertical-align: top;\n",
       "    }\n",
       "</style>\n",
       "<table border=\"1\" class=\"dataframe\">\n",
       "  <thead>\n",
       "    <tr style=\"text-align: right;\">\n",
       "      <th></th>\n",
       "      <th>summary</th>\n",
       "      <th>BODY</th>\n",
       "      <th>DOORS</th>\n",
       "      <th>HP</th>\n",
       "      <th>MPG</th>\n",
       "      <th>RPM</th>\n",
       "    </tr>\n",
       "  </thead>\n",
       "  <tbody>\n",
       "    <tr>\n",
       "      <th>0</th>\n",
       "      <td>count</td>\n",
       "      <td>197</td>\n",
       "      <td>197</td>\n",
       "      <td>197</td>\n",
       "      <td>197</td>\n",
       "      <td>197</td>\n",
       "    </tr>\n",
       "    <tr>\n",
       "      <th>1</th>\n",
       "      <td>mean</td>\n",
       "      <td>1.532994923857868</td>\n",
       "      <td>1.5685279187817258</td>\n",
       "      <td>103.60406091370558</td>\n",
       "      <td>25.15228426395939</td>\n",
       "      <td>5118.0203045685275</td>\n",
       "    </tr>\n",
       "    <tr>\n",
       "      <th>2</th>\n",
       "      <td>stddev</td>\n",
       "      <td>0.5001812579359883</td>\n",
       "      <td>0.49654352778167493</td>\n",
       "      <td>37.639205349518356</td>\n",
       "      <td>6.437862917085915</td>\n",
       "      <td>481.03591405011446</td>\n",
       "    </tr>\n",
       "    <tr>\n",
       "      <th>3</th>\n",
       "      <td>min</td>\n",
       "      <td>1.0</td>\n",
       "      <td>1.0</td>\n",
       "      <td>48.0</td>\n",
       "      <td>13.0</td>\n",
       "      <td>4150.0</td>\n",
       "    </tr>\n",
       "    <tr>\n",
       "      <th>4</th>\n",
       "      <td>max</td>\n",
       "      <td>2.0</td>\n",
       "      <td>2.0</td>\n",
       "      <td>262.0</td>\n",
       "      <td>49.0</td>\n",
       "      <td>6600.0</td>\n",
       "    </tr>\n",
       "  </tbody>\n",
       "</table>\n",
       "</div>"
      ],
      "text/plain": [
       "  summary                BODY                DOORS                  HP  \\\n",
       "0   count                 197                  197                 197   \n",
       "1    mean   1.532994923857868   1.5685279187817258  103.60406091370558   \n",
       "2  stddev  0.5001812579359883  0.49654352778167493  37.639205349518356   \n",
       "3     min                 1.0                  1.0                48.0   \n",
       "4     max                 2.0                  2.0               262.0   \n",
       "\n",
       "                 MPG                 RPM  \n",
       "0                197                 197  \n",
       "1  25.15228426395939  5118.0203045685275  \n",
       "2  6.437862917085915  481.03591405011446  \n",
       "3               13.0              4150.0  \n",
       "4               49.0              6600.0  "
      ]
     },
     "execution_count": 9,
     "metadata": {},
     "output_type": "execute_result"
    }
   ],
   "source": [
    "# Convert the spark dataframe into a pandas dataframe\n",
    "stats = carDF.describe().toPandas()\n",
    "stats.head()"
   ]
  },
  {
   "cell_type": "code",
   "execution_count": 10,
   "metadata": {
    "collapsed": true
   },
   "outputs": [],
   "source": [
    "# list with mean and std\n",
    "mean = stats.iloc[1,1:6].values.tolist()\n",
    "std = stats.iloc[2,1:6].values.tolist()"
   ]
  },
  {
   "cell_type": "code",
   "execution_count": 11,
   "metadata": {},
   "outputs": [
    {
     "data": {
      "text/plain": [
       "['1.532994923857868',\n",
       " '1.5685279187817258',\n",
       " '103.60406091370558',\n",
       " '25.15228426395939',\n",
       " '5118.0203045685275']"
      ]
     },
     "execution_count": 11,
     "metadata": {},
     "output_type": "execute_result"
    }
   ],
   "source": [
    "mean"
   ]
  },
  {
   "cell_type": "code",
   "execution_count": 12,
   "metadata": {},
   "outputs": [
    {
     "data": {
      "text/plain": [
       "['0.5001812579359883',\n",
       " '0.49654352778167493',\n",
       " '37.639205349518356',\n",
       " '6.437862917085915',\n",
       " '481.03591405011446']"
      ]
     },
     "execution_count": 12,
     "metadata": {},
     "output_type": "execute_result"
    }
   ],
   "source": [
    "std"
   ]
  },
  {
   "cell_type": "code",
   "execution_count": 13,
   "metadata": {
    "collapsed": true
   },
   "outputs": [],
   "source": [
    "# Set mean and std as broadcast variables\n",
    "bc_mean = sc.broadcast(mean)\n",
    "bc_std = sc.broadcast(std)"
   ]
  },
  {
   "cell_type": "code",
   "execution_count": 14,
   "metadata": {
    "collapsed": true
   },
   "outputs": [],
   "source": [
    "# Data scaling\n",
    "def centerAndScale(row):\n",
    "    global bc_mean\n",
    "    global bc_std\n",
    "    \n",
    "    meanArray = bc_mean.value\n",
    "    stdArray = bc_std.value\n",
    "    \n",
    "    Array = list()\n",
    "    \n",
    "    for i in range(len(meanArray)):\n",
    "        Array.append( (float(row[i]) - float(meanArray[i])) /float(stdArray[i]))\n",
    "        \n",
    "    return Vectors.dense(Array)"
   ]
  },
  {
   "cell_type": "code",
   "execution_count": 15,
   "metadata": {},
   "outputs": [
    {
     "data": {
      "text/plain": [
       "[DenseVector([0.9337, -1.145, -0.9194, 0.9083, -0.4532]),\n",
       " DenseVector([0.9337, -1.145, -1.4773, 3.3936, -0.0375]),\n",
       " DenseVector([0.9337, -1.145, -0.9459, 0.753, -0.2453]),\n",
       " DenseVector([0.9337, -1.145, -1.1053, 1.5297, -0.6611]),\n",
       " DenseVector([0.9337, -1.145, -0.9459, 1.8403, 0.7941]),\n",
       " DenseVector([0.9337, -1.145, -1.1585, 1.9956, 0.7941]),\n",
       " DenseVector([-1.0656, -1.145, -0.9194, 0.9083, 0.1704]),\n",
       " DenseVector([0.9337, -1.145, -0.9459, 1.8403, 0.7941]),\n",
       " DenseVector([0.9337, -1.145, -0.9459, 1.8403, 0.7941]),\n",
       " DenseVector([0.9337, -1.145, -0.9459, 0.9083, -0.2453])]"
      ]
     },
     "execution_count": 15,
     "metadata": {},
     "output_type": "execute_result"
    }
   ],
   "source": [
    "carRDD4 = carDF.rdd.map(centerAndScale)\n",
    "carRDD4.collect()[:10]"
   ]
  },
  {
   "cell_type": "code",
   "execution_count": 24,
   "metadata": {},
   "outputs": [
    {
     "name": "stdout",
     "output_type": "stream",
     "text": [
      "+--------------------+\n",
      "|            features|\n",
      "+--------------------+\n",
      "|[0.93367168148051...|\n",
      "|[0.93367168148051...|\n",
      "|[0.93367168148051...|\n",
      "|[0.93367168148051...|\n",
      "|[0.93367168148051...|\n",
      "|[0.93367168148051...|\n",
      "|[-1.0656035495158...|\n",
      "|[0.93367168148051...|\n",
      "|[0.93367168148051...|\n",
      "|[0.93367168148051...|\n",
      "+--------------------+\n",
      "only showing top 10 rows\n",
      "\n"
     ]
    }
   ],
   "source": [
    "# Transform into a dataframe\n",
    "carRDD5 = carRDD4.map(lambda f : Row(features = f))\n",
    "carDF = spSession.createDataFrame(carRDD5)\n",
    "carDF.select(\"features\").show(10)"
   ]
  },
  {
   "cell_type": "code",
   "execution_count": 42,
   "metadata": {
    "collapsed": true
   },
   "outputs": [],
   "source": [
    "# Create Model\n",
    "kmeans = KMeans( k = 3 , seed = 1)\n",
    "model = kmeans.fit(carDF)"
   ]
  },
  {
   "cell_type": "code",
   "execution_count": 43,
   "metadata": {},
   "outputs": [
    {
     "data": {
      "text/plain": [
       "[Row(features=DenseVector([0.9337, -1.145, -0.9194, 0.9083, -0.4532]), prediction=0),\n",
       " Row(features=DenseVector([0.9337, -1.145, -1.4773, 3.3936, -0.0375]), prediction=0),\n",
       " Row(features=DenseVector([0.9337, -1.145, -0.9459, 0.753, -0.2453]), prediction=0),\n",
       " Row(features=DenseVector([0.9337, -1.145, -1.1053, 1.5297, -0.6611]), prediction=0),\n",
       " Row(features=DenseVector([0.9337, -1.145, -0.9459, 1.8403, 0.7941]), prediction=0),\n",
       " Row(features=DenseVector([0.9337, -1.145, -1.1585, 1.9956, 0.7941]), prediction=0),\n",
       " Row(features=DenseVector([-1.0656, -1.145, -0.9194, 0.9083, 0.1704]), prediction=0),\n",
       " Row(features=DenseVector([0.9337, -1.145, -0.9459, 1.8403, 0.7941]), prediction=0),\n",
       " Row(features=DenseVector([0.9337, -1.145, -0.9459, 1.8403, 0.7941]), prediction=0),\n",
       " Row(features=DenseVector([0.9337, -1.145, -0.9459, 0.9083, -0.2453]), prediction=0),\n",
       " Row(features=DenseVector([0.9337, -1.145, -0.9459, 0.9083, 0.7941]), prediction=0),\n",
       " Row(features=DenseVector([0.9337, 0.869, -0.9459, 0.9083, 0.7941]), prediction=0),\n",
       " Row(features=DenseVector([0.9337, 0.869, -0.9459, 0.9083, 0.7941]), prediction=0),\n",
       " Row(features=DenseVector([0.9337, -1.145, -0.8928, 1.9956, 0.5862]), prediction=0),\n",
       " Row(features=DenseVector([0.9337, -1.145, -1.1053, 0.9083, -0.6611]), prediction=0),\n",
       " Row(features=DenseVector([0.9337, -1.145, -0.9459, 0.9083, 0.7941]), prediction=0),\n",
       " Row(features=DenseVector([0.9337, -1.145, -1.2116, 3.7043, -0.6611]), prediction=0),\n",
       " Row(features=DenseVector([0.9337, 0.869, -1.1053, 0.9083, -0.6611]), prediction=1),\n",
       " Row(features=DenseVector([0.9337, -1.145, -0.7334, 0.753, 1.8335]), prediction=0),\n",
       " Row(features=DenseVector([-1.0656, 0.869, -0.8928, 1.9956, 0.5862]), prediction=1),\n",
       " Row(features=DenseVector([-1.0656, -1.145, -0.9194, 0.9083, 0.1704]), prediction=0),\n",
       " Row(features=DenseVector([0.9337, -1.145, -0.9459, 0.9083, 0.7941]), prediction=0),\n",
       " Row(features=DenseVector([-1.0656, 0.869, -0.9459, 0.9083, 0.7941]), prediction=1),\n",
       " Row(features=DenseVector([-1.0656, 0.869, -0.9459, 0.9083, 0.7941]), prediction=1),\n",
       " Row(features=DenseVector([-1.0656, 0.869, -0.9459, 0.9083, -0.2453]), prediction=1),\n",
       " Row(features=DenseVector([-1.0656, 0.869, -0.6802, -0.179, -0.6611]), prediction=1),\n",
       " Row(features=DenseVector([0.9337, -1.145, -0.9459, 0.9083, -0.2453]), prediction=0),\n",
       " Row(features=DenseVector([-1.0656, 0.869, -0.9194, 0.9083, 0.1704]), prediction=1),\n",
       " Row(features=DenseVector([0.9337, -1.145, -0.7334, 0.9083, 1.8335]), prediction=0),\n",
       " Row(features=DenseVector([0.9337, 0.869, -1.1053, 0.9083, -0.6611]), prediction=1),\n",
       " Row(features=DenseVector([-1.0656, 0.869, -0.8928, 0.753, -0.6611]), prediction=1),\n",
       " Row(features=DenseVector([-1.0656, 0.869, -0.4146, -0.0237, -0.2453]), prediction=1),\n",
       " Row(features=DenseVector([0.9337, -1.145, -0.8131, 0.1317, -1.4927]), prediction=0),\n",
       " Row(features=DenseVector([-1.0656, -1.145, -1.2913, 3.083, -0.6611]), prediction=0),\n",
       " Row(features=DenseVector([-1.0656, 0.869, -0.574, 1.0637, -0.6611]), prediction=1),\n",
       " Row(features=DenseVector([0.9337, -1.145, -0.7334, 0.753, 1.8335]), prediction=0),\n",
       " Row(features=DenseVector([0.9337, 0.869, -0.8928, 0.753, -0.6611]), prediction=1),\n",
       " Row(features=DenseVector([-1.0656, 0.869, -0.7334, 0.753, 1.8335]), prediction=1),\n",
       " Row(features=DenseVector([0.9337, 0.869, -0.7334, 0.753, 1.8335]), prediction=0),\n",
       " Row(features=DenseVector([-1.0656, -1.145, -0.9194, 0.9083, 0.1704]), prediction=0),\n",
       " Row(features=DenseVector([0.9337, 0.869, -0.9194, 0.9083, 0.1704]), prediction=1),\n",
       " Row(features=DenseVector([-1.0656, 0.869, -0.9459, 0.9083, -0.2453]), prediction=1),\n",
       " Row(features=DenseVector([0.9337, 0.869, -0.574, 0.4423, -0.6611]), prediction=1),\n",
       " Row(features=DenseVector([-1.0656, 0.869, -0.9194, 0.9083, 0.1704]), prediction=1),\n",
       " Row(features=DenseVector([0.9337, -1.145, -0.8131, 0.1317, -1.4927]), prediction=0),\n",
       " Row(features=DenseVector([-1.0656, 0.869, -0.9459, 0.9083, 0.7941]), prediction=1),\n",
       " Row(features=DenseVector([-1.0656, 0.869, -0.9459, 0.9083, 0.7941]), prediction=1),\n",
       " Row(features=DenseVector([0.9337, -1.145, -0.0426, -0.179, 0.7941]), prediction=0),\n",
       " Row(features=DenseVector([-1.0656, 0.869, -0.8928, 1.9956, -0.6611]), prediction=1),\n",
       " Row(features=DenseVector([-1.0656, 0.869, -0.574, 0.4423, -1.4927]), prediction=1),\n",
       " Row(features=DenseVector([-1.0656, -1.145, -1.371, 1.8403, -0.6611]), prediction=0),\n",
       " Row(features=DenseVector([0.9337, 0.869, -1.2647, 1.9956, -1.2848]), prediction=1),\n",
       " Row(features=DenseVector([0.9337, -1.145, -0.9194, 0.9083, 0.1704]), prediction=0),\n",
       " Row(features=DenseVector([0.9337, -1.145, -0.4677, 0.287, 1.4177]), prediction=0),\n",
       " Row(features=DenseVector([0.9337, 0.869, -1.1053, 0.287, -0.6611]), prediction=1),\n",
       " Row(features=DenseVector([-1.0656, 0.869, -1.2647, 1.3743, -1.2848]), prediction=1),\n",
       " Row(features=DenseVector([0.9337, -1.145, -0.0426, -0.179, 0.7941]), prediction=0),\n",
       " Row(features=DenseVector([0.9337, -1.145, -0.0426, -0.179, 0.7941]), prediction=0),\n",
       " Row(features=DenseVector([-1.0656, -1.145, -0.4943, 0.287, 0.2744]), prediction=0),\n",
       " Row(features=DenseVector([-1.0656, 0.869, -1.371, 1.8403, -0.6611]), prediction=1),\n",
       " Row(features=DenseVector([0.9337, 0.869, -0.9194, 0.9083, 0.1704]), prediction=1),\n",
       " Row(features=DenseVector([0.9337, 0.869, -0.574, -0.3343, -0.6611]), prediction=1),\n",
       " Row(features=DenseVector([-1.0656, -1.145, -0.8928, 0.5977, -0.6611]), prediction=0),\n",
       " Row(features=DenseVector([-1.0656, 0.869, -0.4146, -0.0237, -0.2453]), prediction=1),\n",
       " Row(features=DenseVector([-1.0656, 0.869, -0.4943, 0.287, 0.2744]), prediction=1),\n",
       " Row(features=DenseVector([0.9337, -1.145, -0.8928, 0.5977, -0.6611]), prediction=0),\n",
       " Row(features=DenseVector([0.9337, -1.145, -0.9194, 0.9083, 0.1704]), prediction=0),\n",
       " Row(features=DenseVector([0.9337, 0.869, -0.8928, 0.4423, -0.6611]), prediction=1),\n",
       " Row(features=DenseVector([0.9337, -1.145, 0.3293, -0.179, -0.6611]), prediction=2),\n",
       " Row(features=DenseVector([-1.0656, 0.869, -0.5208, 0.1317, -0.6611]), prediction=1),\n",
       " Row(features=DenseVector([-1.0656, 0.869, -0.4943, 0.287, 0.2744]), prediction=1),\n",
       " Row(features=DenseVector([0.9337, -1.145, -0.4146, -0.0237, -0.2453]), prediction=0),\n",
       " Row(features=DenseVector([0.9337, 0.869, -1.1053, 0.287, -0.6611]), prediction=1),\n",
       " Row(features=DenseVector([-1.0656, 0.869, -0.4677, 0.287, 1.4177]), prediction=1),\n",
       " Row(features=DenseVector([0.9337, -1.145, -0.5208, 0.1317, -0.6611]), prediction=0),\n",
       " Row(features=DenseVector([0.9337, 0.869, -0.4146, -0.179, -0.2453]), prediction=1),\n",
       " Row(features=DenseVector([0.9337, 0.869, -0.4146, -0.179, -0.2453]), prediction=1),\n",
       " Row(features=DenseVector([-1.0656, 0.869, -0.3083, 0.5977, -1.9084]), prediction=1),\n",
       " Row(features=DenseVector([0.9337, 0.869, -0.1755, 0.287, 0.1704]), prediction=1),\n",
       " Row(features=DenseVector([0.9337, -1.145, -0.4677, 0.287, 1.4177]), prediction=0),\n",
       " Row(features=DenseVector([-1.0656, 0.869, -0.574, -0.179, -0.6611]), prediction=1),\n",
       " Row(features=DenseVector([-1.0656, 0.869, -0.8928, 0.4423, -0.6611]), prediction=1),\n",
       " Row(features=DenseVector([-1.0656, 0.869, 0.3293, -0.3343, 0.7941]), prediction=1),\n",
       " Row(features=DenseVector([-1.0656, 0.869, 0.3293, -0.3343, 0.7941]), prediction=1),\n",
       " Row(features=DenseVector([-1.0656, -1.145, 0.2231, 0.1317, 3.0808]), prediction=0),\n",
       " Row(features=DenseVector([-1.0656, 0.869, -0.9459, 1.8403, -1.2848]), prediction=1),\n",
       " Row(features=DenseVector([0.9337, -1.145, 0.2231, 0.1317, 3.0808]), prediction=0),\n",
       " Row(features=DenseVector([-1.0656, 0.869, -0.1755, 0.287, 0.1704]), prediction=1),\n",
       " Row(features=DenseVector([0.9337, -1.145, 0.3293, -0.179, -0.6611]), prediction=2),\n",
       " Row(features=DenseVector([0.9337, -1.145, 0.3293, -0.3343, 0.7941]), prediction=2),\n",
       " Row(features=DenseVector([-1.0656, 0.869, -0.2552, 0.1317, 0.1704]), prediction=1),\n",
       " Row(features=DenseVector([0.9337, -1.145, -0.3614, -0.179, 0.7941]), prediction=0),\n",
       " Row(features=DenseVector([0.9337, 0.869, -0.3083, 0.287, -1.9084]), prediction=1),\n",
       " Row(features=DenseVector([0.9337, -1.145, 0.3293, -0.179, -0.6611]), prediction=2),\n",
       " Row(features=DenseVector([-1.0656, 0.869, -0.0958, 0.1317, 0.7941]), prediction=1),\n",
       " Row(features=DenseVector([0.9337, 0.869, -0.2552, -0.0237, 0.1704]), prediction=1),\n",
       " Row(features=DenseVector([-1.0656, 0.869, -0.5208, 0.1317, -0.6611]), prediction=1),\n",
       " Row(features=DenseVector([-1.0656, 0.869, -0.4677, 0.287, 1.4177]), prediction=1),\n",
       " Row(features=DenseVector([-1.0656, -1.145, -0.0958, -0.0237, 0.7941]), prediction=0),\n",
       " Row(features=DenseVector([0.9337, -1.145, -0.5208, 0.1317, -0.6611]), prediction=0),\n",
       " Row(features=DenseVector([-1.0656, 0.869, -0.8131, 0.753, -1.2848]), prediction=1),\n",
       " Row(features=DenseVector([-1.0656, 0.869, -0.3083, 0.287, -1.9084]), prediction=1),\n",
       " Row(features=DenseVector([0.9337, -1.145, -0.0692, -1.2663, 1.8335]), prediction=2),\n",
       " Row(features=DenseVector([0.9337, -1.145, -0.3614, -0.179, -0.2453]), prediction=0),\n",
       " Row(features=DenseVector([0.9337, -1.145, 0.3293, -0.179, -0.6611]), prediction=2),\n",
       " Row(features=DenseVector([0.9337, 0.869, -0.5208, 0.1317, -0.6611]), prediction=1),\n",
       " Row(features=DenseVector([0.9337, 0.869, -0.3083, 0.287, -1.9084]), prediction=1),\n",
       " Row(features=DenseVector([-1.0656, 0.869, 0.1965, -0.179, -0.6611]), prediction=1),\n",
       " Row(features=DenseVector([0.9337, -1.145, 0.3293, -0.179, -0.6611]), prediction=2),\n",
       " Row(features=DenseVector([0.9337, -1.145, -0.3614, -0.179, 0.7941]), prediction=0),\n",
       " Row(features=DenseVector([0.9337, 0.869, 0.1965, -0.3343, -0.6611]), prediction=1),\n",
       " Row(features=DenseVector([0.9337, -1.145, -0.0692, -1.2663, 1.8335]), prediction=2),\n",
       " Row(features=DenseVector([0.9337, -1.145, 0.1699, -0.645, 0.2744]), prediction=2),\n",
       " Row(features=DenseVector([-1.0656, 0.869, -0.1755, -0.9556, -0.2453]), prediction=1),\n",
       " Row(features=DenseVector([-1.0656, 0.869, 0.1699, -0.645, 0.2744]), prediction=1),\n",
       " Row(features=DenseVector([0.9337, 0.869, -0.4146, -0.0237, 0.7941]), prediction=1),\n",
       " Row(features=DenseVector([0.9337, 0.869, -0.1755, -0.9556, -0.2453]), prediction=1),\n",
       " Row(features=DenseVector([0.9337, -1.145, 1.0998, -0.9556, -0.2453]), prediction=2),\n",
       " Row(features=DenseVector([0.9337, -1.145, 1.0998, -0.9556, -0.2453]), prediction=2),\n",
       " Row(features=DenseVector([-1.0656, 0.869, 0.2762, -0.3343, 0.5862]), prediction=1),\n",
       " Row(features=DenseVector([-1.0656, 0.869, -0.0692, -0.179, 1.4177]), prediction=1),\n",
       " Row(features=DenseVector([0.9337, -1.145, 1.0998, -0.9556, -0.2453]), prediction=2),\n",
       " Row(features=DenseVector([-1.0656, 0.869, -0.2286, 0.4423, -2.0124]), prediction=1),\n",
       " Row(features=DenseVector([-1.0656, 0.869, 0.1699, -0.9556, 0.7941]), prediction=1),\n",
       " Row(features=DenseVector([0.9337, 0.869, 0.2762, -0.3343, 0.5862]), prediction=1),\n",
       " Row(features=DenseVector([0.9337, -1.145, 0.1965, -0.645, -0.2453]), prediction=2),\n",
       " Row(features=DenseVector([-1.0656, 0.869, 1.2858, -1.2663, 0.1704]), prediction=2),\n",
       " Row(features=DenseVector([-1.0656, 0.869, 1.2858, -0.9556, 0.1704]), prediction=2),\n",
       " Row(features=DenseVector([0.9337, -1.145, -0.0692, -1.2663, 1.8335]), prediction=2),\n",
       " Row(features=DenseVector([-1.0656, 0.869, -0.9459, 1.219, -1.2848]), prediction=1),\n",
       " Row(features=DenseVector([0.9337, 0.869, -0.2286, -0.0237, -2.0124]), prediction=1),\n",
       " Row(features=DenseVector([-1.0656, 0.869, -0.0426, -0.179, 0.7941]), prediction=1),\n",
       " Row(features=DenseVector([0.9337, 0.869, 1.2858, -1.2663, 0.1704]), prediction=2),\n",
       " Row(features=DenseVector([0.9337, -1.145, 1.0998, -0.9556, -0.2453]), prediction=2),\n",
       " Row(features=DenseVector([0.9337, -1.145, 1.0998, -0.9556, -0.2453]), prediction=2),\n",
       " Row(features=DenseVector([0.9337, -1.145, 0.1699, -0.645, 0.2744]), prediction=2),\n",
       " Row(features=DenseVector([-1.0656, -1.145, 0.1699, -0.9556, 0.7941]), prediction=2),\n",
       " Row(features=DenseVector([-1.0656, 0.869, 0.1699, -0.645, 0.2744]), prediction=1),\n",
       " Row(features=DenseVector([-1.0656, 0.869, -0.2286, -0.9556, -0.2453]), prediction=1),\n",
       " Row(features=DenseVector([0.9337, -1.145, 0.8341, -1.4216, 1.8335]), prediction=2),\n",
       " Row(features=DenseVector([-1.0656, 0.869, 1.3921, -0.8003, 0.1704]), prediction=2),\n",
       " Row(features=DenseVector([0.9337, 0.869, 1.3921, -0.9556, 0.1704]), prediction=2),\n",
       " Row(features=DenseVector([-1.0656, 0.869, 0.2762, -0.179, 0.5862]), prediction=1),\n",
       " Row(features=DenseVector([0.9337, -1.145, 1.5249, -0.9556, 0.1704]), prediction=2),\n",
       " Row(features=DenseVector([-1.0656, -1.145, -0.0692, -0.3343, 1.4177]), prediction=0),\n",
       " Row(features=DenseVector([0.9337, -1.145, 0.1965, -0.645, -0.2453]), prediction=2),\n",
       " Row(features=DenseVector([0.9337, -1.145, 1.3389, -0.9556, -0.2453]), prediction=2),\n",
       " Row(features=DenseVector([0.9337, -1.145, 1.8969, -0.9556, -0.2453]), prediction=2),\n",
       " Row(features=DenseVector([0.9337, 0.869, 0.2762, -0.179, 0.5862]), prediction=1),\n",
       " Row(features=DenseVector([0.9337, -1.145, 1.5249, -0.8003, 0.1704]), prediction=2),\n",
       " Row(features=DenseVector([-1.0656, 0.869, -0.1755, -0.9556, -0.2453]), prediction=1),\n",
       " Row(features=DenseVector([0.9337, 0.869, -0.2286, -0.9556, -0.2453]), prediction=1),\n",
       " Row(features=DenseVector([-1.0656, 0.869, 0.2762, -0.3343, 0.5862]), prediction=1),\n",
       " Row(features=DenseVector([-1.0656, 0.869, -0.2286, 0.4423, -2.0124]), prediction=1),\n",
       " Row(features=DenseVector([-1.0656, 0.869, -0.0692, -0.3343, 1.4177]), prediction=1),\n",
       " Row(features=DenseVector([0.9337, 0.869, -0.2286, -0.0237, -2.0124]), prediction=1),\n",
       " Row(features=DenseVector([0.9337, -1.145, 1.4983, -0.9556, 0.1704]), prediction=2),\n",
       " Row(features=DenseVector([-1.0656, 0.869, 0.3028, -1.111, 0.7941]), prediction=1),\n",
       " Row(features=DenseVector([0.9337, -1.145, 0.3293, -0.179, -0.6611]), prediction=2),\n",
       " Row(features=DenseVector([-1.0656, 0.869, 0.1699, -0.9556, 0.7941]), prediction=1),\n",
       " Row(features=DenseVector([-1.0656, 0.869, -0.2286, 0.4423, -2.0124]), prediction=1),\n",
       " Row(features=DenseVector([-1.0656, 0.869, 1.0201, -1.111, 1.002]), prediction=2),\n",
       " Row(features=DenseVector([0.9337, -1.145, 1.4983, -0.9556, 0.7941]), prediction=2),\n",
       " Row(features=DenseVector([-1.0656, 0.869, 0.4356, -0.9556, -0.2453]), prediction=1),\n",
       " Row(features=DenseVector([-1.0656, 0.869, -0.8397, 0.9083, -1.9084]), prediction=1),\n",
       " Row(features=DenseVector([0.9337, -1.145, 1.4983, -0.9556, 0.1704]), prediction=2),\n",
       " Row(features=DenseVector([-1.0656, 0.869, 1.5515, -1.2663, -0.0375]), prediction=2),\n",
       " Row(features=DenseVector([-1.0656, 0.869, 1.4983, -0.9556, 0.7941]), prediction=2),\n",
       " Row(features=DenseVector([0.9337, 0.869, 0.1699, -0.9556, 0.7941]), prediction=2),\n",
       " Row(features=DenseVector([0.9337, 0.869, 1.5515, -1.2663, -0.0375]), prediction=2),\n",
       " Row(features=DenseVector([-1.0656, 0.869, 1.4983, -0.9556, 0.3783]), prediction=2),\n",
       " Row(features=DenseVector([0.9337, -1.145, 2.5611, -1.2663, 0.1704]), prediction=2),\n",
       " Row(features=DenseVector([-1.0656, -1.145, 0.4622, -0.645, -1.8045]), prediction=2),\n",
       " Row(features=DenseVector([-1.0656, 0.869, 0.4622, -0.645, -1.8045]), prediction=1),\n",
       " Row(features=DenseVector([-1.0656, 0.869, 0.8076, -1.111, 0.7941]), prediction=2),\n",
       " Row(features=DenseVector([0.9337, -1.145, 1.0467, -0.9556, 0.7941]), prediction=2),\n",
       " Row(features=DenseVector([-1.0656, 0.869, 0.0637, 0.1317, -0.6611]), prediction=1),\n",
       " Row(features=DenseVector([-1.0656, 0.869, 0.2762, -0.9556, 0.5862]), prediction=1),\n",
       " Row(features=DenseVector([-1.0656, 0.869, 0.967, -1.2663, 0.7941]), prediction=2),\n",
       " Row(features=DenseVector([-1.0656, 0.869, 0.4622, -0.8003, -1.8045]), prediction=1),\n",
       " Row(features=DenseVector([-1.0656, 0.869, 0.5153, -0.4896, -1.5966]), prediction=1),\n",
       " Row(features=DenseVector([0.9337, -1.145, 0.5153, -0.4896, -1.5966]), prediction=2),\n",
       " Row(features=DenseVector([0.9337, 0.869, 0.5153, -0.4896, -1.5966]), prediction=1),\n",
       " Row(features=DenseVector([-1.0656, 0.869, 2.0828, -1.4216, 0.5862]), prediction=2),\n",
       " Row(features=DenseVector([-1.0656, 0.869, 0.5153, -0.4896, -1.5966]), prediction=1),\n",
       " Row(features=DenseVector([-1.0656, 0.869, 1.9234, -1.577, -0.7651]), prediction=2),\n",
       " Row(features=DenseVector([0.9337, -1.145, 2.747, -1.2663, 1.6256]), prediction=2),\n",
       " Row(features=DenseVector([0.9337, -1.145, 2.747, -1.2663, 1.6256]), prediction=2),\n",
       " Row(features=DenseVector([-1.0656, 0.869, 1.3655, -1.4216, -0.7651]), prediction=2),\n",
       " Row(features=DenseVector([0.9337, -1.145, 1.3655, -1.4216, -0.7651]), prediction=2),\n",
       " Row(features=DenseVector([-1.0656, 0.869, 1.9234, -1.577, -0.7651]), prediction=2),\n",
       " Row(features=DenseVector([-1.0656, -1.145, 4.2083, -1.8876, -0.2453]), prediction=2),\n",
       " Row(features=DenseVector([-1.0656, 0.869, 2.0828, -1.577, 0.5862]), prediction=2),\n",
       " Row(features=DenseVector([0.9337, -1.145, 2.747, -1.2663, 1.6256]), prediction=2),\n",
       " Row(features=DenseVector([-1.0656, 0.869, 2.136, -1.7323, -1.2848]), prediction=2),\n",
       " Row(features=DenseVector([-1.0656, -1.145, 2.0828, -1.4216, 0.5862]), prediction=2),\n",
       " Row(features=DenseVector([0.9337, -1.145, 2.136, -1.7323, -1.2848]), prediction=2)]"
      ]
     },
     "execution_count": 43,
     "metadata": {},
     "output_type": "execute_result"
    }
   ],
   "source": [
    "#Predictions\n",
    "predictions = model.transform(carDF)\n",
    "predictions.collect()"
   ]
  },
  {
   "cell_type": "code",
   "execution_count": 44,
   "metadata": {
    "collapsed": true
   },
   "outputs": [],
   "source": [
    "# Separate features and prediction (group)\n",
    "def unstripData(instr) :\n",
    "    return (instr[\"prediction\"], instr[\"features\"][0], instr[\"features\"][1], instr[\"features\"][2], instr[\"features\"][3],instr[\"features\"][4])"
   ]
  },
  {
   "cell_type": "code",
   "execution_count": 45,
   "metadata": {},
   "outputs": [],
   "source": [
    "carRDD6 = predictions.rdd.map(unstripData)\n",
    "predList = carRDD6.collect()\n",
    "predPd = pd.DataFrame(predList)"
   ]
  },
  {
   "cell_type": "code",
   "execution_count": 50,
   "metadata": {},
   "outputs": [
    {
     "data": {
      "text/html": [
       "<div>\n",
       "<style>\n",
       "    .dataframe thead tr:only-child th {\n",
       "        text-align: right;\n",
       "    }\n",
       "\n",
       "    .dataframe thead th {\n",
       "        text-align: left;\n",
       "    }\n",
       "\n",
       "    .dataframe tbody tr th {\n",
       "        vertical-align: top;\n",
       "    }\n",
       "</style>\n",
       "<table border=\"1\" class=\"dataframe\">\n",
       "  <thead>\n",
       "    <tr style=\"text-align: right;\">\n",
       "      <th></th>\n",
       "      <th>0</th>\n",
       "      <th>1</th>\n",
       "      <th>2</th>\n",
       "      <th>3</th>\n",
       "      <th>4</th>\n",
       "      <th>5</th>\n",
       "    </tr>\n",
       "  </thead>\n",
       "  <tbody>\n",
       "    <tr>\n",
       "      <th>0</th>\n",
       "      <td>0</td>\n",
       "      <td>0.933672</td>\n",
       "      <td>-1.144971</td>\n",
       "      <td>-0.919362</td>\n",
       "      <td>0.908332</td>\n",
       "      <td>-0.453231</td>\n",
       "    </tr>\n",
       "    <tr>\n",
       "      <th>1</th>\n",
       "      <td>0</td>\n",
       "      <td>0.933672</td>\n",
       "      <td>-1.144971</td>\n",
       "      <td>-1.477291</td>\n",
       "      <td>3.393629</td>\n",
       "      <td>-0.037461</td>\n",
       "    </tr>\n",
       "    <tr>\n",
       "      <th>2</th>\n",
       "      <td>0</td>\n",
       "      <td>0.933672</td>\n",
       "      <td>-1.144971</td>\n",
       "      <td>-0.945930</td>\n",
       "      <td>0.753001</td>\n",
       "      <td>-0.245346</td>\n",
       "    </tr>\n",
       "    <tr>\n",
       "      <th>3</th>\n",
       "      <td>0</td>\n",
       "      <td>0.933672</td>\n",
       "      <td>-1.144971</td>\n",
       "      <td>-1.105338</td>\n",
       "      <td>1.529656</td>\n",
       "      <td>-0.661116</td>\n",
       "    </tr>\n",
       "    <tr>\n",
       "      <th>4</th>\n",
       "      <td>0</td>\n",
       "      <td>0.933672</td>\n",
       "      <td>-1.144971</td>\n",
       "      <td>-0.945930</td>\n",
       "      <td>1.840318</td>\n",
       "      <td>0.794077</td>\n",
       "    </tr>\n",
       "    <tr>\n",
       "      <th>5</th>\n",
       "      <td>0</td>\n",
       "      <td>0.933672</td>\n",
       "      <td>-1.144971</td>\n",
       "      <td>-1.158475</td>\n",
       "      <td>1.995649</td>\n",
       "      <td>0.794077</td>\n",
       "    </tr>\n",
       "    <tr>\n",
       "      <th>6</th>\n",
       "      <td>0</td>\n",
       "      <td>-1.065604</td>\n",
       "      <td>-1.144971</td>\n",
       "      <td>-0.919362</td>\n",
       "      <td>0.908332</td>\n",
       "      <td>0.170423</td>\n",
       "    </tr>\n",
       "    <tr>\n",
       "      <th>7</th>\n",
       "      <td>0</td>\n",
       "      <td>0.933672</td>\n",
       "      <td>-1.144971</td>\n",
       "      <td>-0.945930</td>\n",
       "      <td>1.840318</td>\n",
       "      <td>0.794077</td>\n",
       "    </tr>\n",
       "    <tr>\n",
       "      <th>8</th>\n",
       "      <td>0</td>\n",
       "      <td>0.933672</td>\n",
       "      <td>-1.144971</td>\n",
       "      <td>-0.945930</td>\n",
       "      <td>1.840318</td>\n",
       "      <td>0.794077</td>\n",
       "    </tr>\n",
       "    <tr>\n",
       "      <th>9</th>\n",
       "      <td>0</td>\n",
       "      <td>0.933672</td>\n",
       "      <td>-1.144971</td>\n",
       "      <td>-0.945930</td>\n",
       "      <td>0.908332</td>\n",
       "      <td>-0.245346</td>\n",
       "    </tr>\n",
       "  </tbody>\n",
       "</table>\n",
       "</div>"
      ],
      "text/plain": [
       "   0         1         2         3         4         5\n",
       "0  0  0.933672 -1.144971 -0.919362  0.908332 -0.453231\n",
       "1  0  0.933672 -1.144971 -1.477291  3.393629 -0.037461\n",
       "2  0  0.933672 -1.144971 -0.945930  0.753001 -0.245346\n",
       "3  0  0.933672 -1.144971 -1.105338  1.529656 -0.661116\n",
       "4  0  0.933672 -1.144971 -0.945930  1.840318  0.794077\n",
       "5  0  0.933672 -1.144971 -1.158475  1.995649  0.794077\n",
       "6  0 -1.065604 -1.144971 -0.919362  0.908332  0.170423\n",
       "7  0  0.933672 -1.144971 -0.945930  1.840318  0.794077\n",
       "8  0  0.933672 -1.144971 -0.945930  1.840318  0.794077\n",
       "9  0  0.933672 -1.144971 -0.945930  0.908332 -0.245346"
      ]
     },
     "execution_count": 50,
     "metadata": {},
     "output_type": "execute_result"
    }
   ],
   "source": [
    "predPd[:10]"
   ]
  },
  {
   "cell_type": "code",
   "execution_count": 59,
   "metadata": {},
   "outputs": [
    {
     "data": {
      "text/plain": [
       "<matplotlib.collections.PathCollection at 0x23fe1e7d160>"
      ]
     },
     "execution_count": 59,
     "metadata": {},
     "output_type": "execute_result"
    },
    {
     "data": {
      "image/png": "[encoded data removed]",
      "text/plain": [
       "<matplotlib.figure.Figure at 0x23fe1f43160>"
      ]
     },
     "metadata": {},
     "output_type": "display_data"
    }
   ],
   "source": [
    "# Gráfico com o resultados dos clusters criados\n",
    "plt.cla()\n",
    "plt.scatter(predPd[3], predPd[4],  c = predPd[0])"
   ]
  }
 ],
 "metadata": {
  "kernelspec": {
   "display_name": "Python 3",
   "language": "python",
   "name": "python3"
  },
  "language_info": {
   "codemirror_mode": {
    "name": "ipython",
    "version": 3
   },
   "file_extension": ".py",
   "mimetype": "text/x-python",
   "name": "python",
   "nbconvert_exporter": "python",
   "pygments_lexer": "ipython3",
   "version": "3.6.1"
  }
 },
 "nbformat": 4,
 "nbformat_minor": 2
}
