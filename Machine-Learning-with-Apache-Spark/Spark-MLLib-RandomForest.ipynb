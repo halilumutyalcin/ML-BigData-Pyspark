{
 "cells": [
  {
   "cell_type": "markdown",
   "metadata": {},
   "source": [
    "## Clas - Random Forest"
   ]
  },
  {
   "cell_type": "markdown",
   "metadata": {},
   "source": [
    "<strong> Classification - Random Forest </strong>\n",
    "<ul style=\"list-style-type:square\">\n",
    "  <li>Features : age, job,marital,education,default,balance,housing,loan,contact,day,month,duration,campaign,pdays,previous,poutcome</li>\n",
    "  <li>Target : Outcome [yes/no] </li>\n",
    "  <li>Model : Random Forest</li>\n",
    "  <li>Goal : Predict whether a bank client will pay the credit or not.</li>\n",
    "</ul>"
   ]
  },
  {
   "cell_type": "markdown",
   "metadata": {},
   "source": [
    "<strong>Attribute Information:</strong>\n",
    "\n",
    "<strong>Input variables:</strong>\n",
    "\n",
    "<strong>Bank client data:</strong>\n",
    "\n",
    "<li>1 - age (numeric) </li>\n",
    "<li>2 - job : type of job (categorical: 'admin.','blue-collar','entrepreneur','housemaid','management','retired','self-employed','services','student','technician','unemployed','unknown')</li>\n",
    "<li>3 - marital : marital status (categorical: 'divorced','married','single','unknown'; note: 'divorced' means divorced or widowed)</li>\n",
    "<li>4 - education (categorical:'primary','secondary','tertiary','unknown')</li>\n",
    "<li>5 - default: has credit in default? (categorical: 'no','yes','unknown')</li>\n",
    "<li>6 - balance - balance in the client's current account</i> \n",
    "<li>7 - housing: has housing loan? (categorical: 'no','yes','unknown')</li>\n",
    "<li>8 - loan: has personal loan? (categorical: 'no','yes','unknown')</li>\n",
    "\n",
    "<strong>Related with the last contact of the current campaign:</strong>\n",
    "\n",
    "<li>9 - contact: contact communication type (categorical: 'cellular','telephone') </li>\n",
    "<li>10 - month: last contact month of year (categorical: 'jan', 'feb', 'mar', ..., 'nov', 'dec')</li>\n",
    "<li>11 - day_of_week: last contact day of the week (categorical: 'mon','tue','wed','thu','fri')</li>\n",
    "<li>12 - duration: last contact duration, in seconds (numeric). Important note: this attribute highly affects the output target (e.g., if duration=0 then y='no'). Yet, the duration is not known before a call is performed. Also, after the end of the call y is obviously known. Thus, this input should only be included for benchmark purposes and should be discarded if the intention is to have a realistic predictive model.</li>\n",
    "\n",
    "<strong>Other attributes:</strong>\n",
    "\n",
    "<li>13 - campaign: number of contacts performed during this campaign and for this client (numeric, includes last contact)</li>\n",
    "<li>14 - pdays: number of days that passed by after the client was last contacted from a previous campaign (numeric; 999 means client was not previously contacted)</li>\n",
    "<li>15 - previous: number of contacts performed before this campaign and for this client (numeric)</li>\n",
    "<li>16 - poutcome: outcome of the previous marketing campaign (categorical: 'failure','nonexistent','success')</li>\n",
    "\n",
    "<strong>Output variable (desired target)</strong>\n",
    "<li>17 - y - has the client subscribed a term deposit? (binary: 'yes','no')</li>\n",
    "\n",
    "Source : https://archive.ics.uci.edu/ml/datasets/bank+marketing"
   ]
  },
  {
   "cell_type": "code",
   "execution_count": 1,
   "metadata": {
    "collapsed": true
   },
   "outputs": [],
   "source": [
    "# Spark Session\n",
    "spSession = SparkSession.builder.master('local').appName(\"RandomForest\").config(\"any.config\").getOrCreate()"
   ]
  },
  {
   "cell_type": "code",
   "execution_count": 2,
   "metadata": {
    "collapsed": true
   },
   "outputs": [],
   "source": [
    "# Libraries \n",
    "import math\n",
    "from pyspark.sql import Row \n",
    "from pyspark.ml.linalg import Vectors # labeled Point\n",
    "from pyspark.ml.feature import StringIndexer  # For numerical labeling\n",
    "from pyspark.ml.feature import PCA  # Principal Component analysis - Dimensionality reduction\n",
    "from pyspark.ml.classification import RandomForestClassifier # Model\n",
    "from pyspark.ml.evaluation import MulticlassClassificationEvaluator #Evaluate"
   ]
  },
  {
   "cell_type": "code",
   "execution_count": 3,
   "metadata": {},
   "outputs": [
    {
     "data": {
      "text/plain": [
       "bank.csv MapPartitionsRDD[1] at textFile at <unknown>:0"
      ]
     },
     "execution_count": 3,
     "metadata": {},
     "output_type": "execute_result"
    }
   ],
   "source": [
    "# Import csv file and store it in cache\n",
    "bankRDD = sc.textFile(\"bank.csv\")\n",
    "bankRDD.cache()"
   ]
  },
  {
   "cell_type": "code",
   "execution_count": 4,
   "metadata": {},
   "outputs": [
    {
     "data": {
      "text/plain": [
       "['\"age\";\"job\";\"marital\";\"education\";\"default\";\"balance\";\"housing\";\"loan\";\"contact\";\"day\";\"month\";\"duration\";\"campaign\";\"pdays\";\"previous\";\"poutcome\";\"y\"',\n",
       " '30;\"unemployed\";\"married\";\"primary\";\"no\";1787;\"no\";\"no\";\"cellular\";19;\"oct\";79;1;-1;0;\"unknown\";\"no\"',\n",
       " '33;\"services\";\"married\";\"secondary\";\"no\";4789;\"yes\";\"yes\";\"cellular\";11;\"may\";220;1;339;4;\"failure\";\"yes\"',\n",
       " '35;\"management\";\"single\";\"tertiary\";\"no\";1350;\"yes\";\"no\";\"cellular\";16;\"apr\";185;1;330;1;\"failure\";\"yes\"',\n",
       " '30;\"management\";\"married\";\"tertiary\";\"no\";1476;\"yes\";\"yes\";\"unknown\";3;\"jun\";199;4;-1;0;\"unknown\";\"yes\"']"
      ]
     },
     "execution_count": 4,
     "metadata": {},
     "output_type": "execute_result"
    }
   ],
   "source": [
    "bankRDD.take(5)"
   ]
  },
  {
   "cell_type": "code",
   "execution_count": 5,
   "metadata": {
    "collapsed": true
   },
   "outputs": [],
   "source": [
    "# Remove header\n",
    "header = bankRDD.first()\n",
    "bankRDD2 = bankRDD.filter(lambda x : x not in header)"
   ]
  },
  {
   "cell_type": "code",
   "execution_count": 6,
   "metadata": {},
   "outputs": [
    {
     "data": {
      "text/plain": [
       "['30;\"unemployed\";\"married\";\"primary\";\"no\";1787;\"no\";\"no\";\"cellular\";19;\"oct\";79;1;-1;0;\"unknown\";\"no\"',\n",
       " '33;\"services\";\"married\";\"secondary\";\"no\";4789;\"yes\";\"yes\";\"cellular\";11;\"may\";220;1;339;4;\"failure\";\"yes\"',\n",
       " '35;\"management\";\"single\";\"tertiary\";\"no\";1350;\"yes\";\"no\";\"cellular\";16;\"apr\";185;1;330;1;\"failure\";\"yes\"']"
      ]
     },
     "execution_count": 6,
     "metadata": {},
     "output_type": "execute_result"
    }
   ],
   "source": [
    "bankRDD2.take(3)"
   ]
  },
  {
   "cell_type": "markdown",
   "metadata": {},
   "source": [
    "## Data Cleaning"
   ]
  },
  {
   "cell_type": "code",
   "execution_count": 7,
   "metadata": {
    "collapsed": true
   },
   "outputs": [],
   "source": [
    "# Transform string into numeric values ( labels)\n",
    "\n",
    "def ConvertToNumeric(inputStr): \n",
    "    # Replace  Double quotation markr (\\\")  and Split using semicolon as separetor\n",
    "    # scape sequence - https://www.techopedia.com/definition/822/escape-sequence-c\n",
    "    attList = inputStr.replace(\"\\\"\",\"\").split(\";\")\n",
    "    \n",
    "    # Set numeric labels\n",
    "    age = float(attList[0])\n",
    "    \n",
    "    single = 1.0 if attList[2] == \"single\" else 0.0\n",
    "    married = 1.0 if attList[2] == \"married\" else 0.0\n",
    "    divorced = 1.0 if attList[2] == \"divorced\" else 0.0\n",
    "    \n",
    "    primary = 1.0 if attList[3] == \"primary\" else 0.0\n",
    "    secondary = 1.0 if attList[3] == \"secondary\" else 0.0\n",
    "    tertiary = 1.0 if attList[3] == \"tertiary\" else 0.0\n",
    "    \n",
    "    default = 0.0 if attList[4] == \"no\" else 1.0\n",
    "    \n",
    "    balance = float(attList[5])\n",
    "    \n",
    "    loan = 0.0 if attList[7] == \"no\" else 1.0\n",
    "    \n",
    "    outcome = 0.0 if attList[16] == \"no\" else 1.0\n",
    "    \n",
    "    # Create rows \n",
    "    \n",
    "    row = Row(OUTCOME = outcome, AGE = age, SINGLE = single, MARRIED = married , DIVORCED = divorced , \n",
    "             PRIMARY = primary, SECONDARY = secondary , TERTIARY = tertiary, DEFAULT = default , BALANCE = balance,\n",
    "             LOAN = loan)  \n",
    "    \n",
    "    return row                "
   ]
  },
  {
   "cell_type": "code",
   "execution_count": 8,
   "metadata": {},
   "outputs": [
    {
     "data": {
      "text/plain": [
       "[Row(AGE=30.0, BALANCE=1787.0, DEFAULT=0.0, DIVORCED=0.0, LOAN=0.0, MARRIED=1.0, OUTCOME=0.0, PRIMARY=1.0, SECONDARY=0.0, SINGLE=0.0, TERTIARY=0.0),\n",
       " Row(AGE=33.0, BALANCE=4789.0, DEFAULT=0.0, DIVORCED=0.0, LOAN=1.0, MARRIED=1.0, OUTCOME=1.0, PRIMARY=0.0, SECONDARY=1.0, SINGLE=0.0, TERTIARY=0.0),\n",
       " Row(AGE=35.0, BALANCE=1350.0, DEFAULT=0.0, DIVORCED=0.0, LOAN=0.0, MARRIED=0.0, OUTCOME=1.0, PRIMARY=0.0, SECONDARY=0.0, SINGLE=1.0, TERTIARY=1.0)]"
      ]
     },
     "execution_count": 8,
     "metadata": {},
     "output_type": "execute_result"
    }
   ],
   "source": [
    "bankRDD3 = bankRDD2.map(ConvertToNumeric)\n",
    "bankRDD3.collect()[:3]"
   ]
  },
  {
   "cell_type": "markdown",
   "metadata": {},
   "source": [
    "## Data Exploration"
   ]
  },
  {
   "cell_type": "code",
   "execution_count": 9,
   "metadata": {
    "collapsed": true
   },
   "outputs": [],
   "source": [
    "# Create a dataframe and show some statistics\n",
    "bankDF = spSession.createDataFrame(bankRDD3)\n"
   ]
  },
  {
   "cell_type": "code",
   "execution_count": 11,
   "metadata": {},
   "outputs": [
    {
     "name": "stdout",
     "output_type": "stream",
     "text": [
      "+----+-------+-------+--------+----+-------+-------+-------+---------+------+--------+\n",
      "| AGE|BALANCE|DEFAULT|DIVORCED|LOAN|MARRIED|OUTCOME|PRIMARY|SECONDARY|SINGLE|TERTIARY|\n",
      "+----+-------+-------+--------+----+-------+-------+-------+---------+------+--------+\n",
      "|30.0| 1787.0|    0.0|     0.0| 0.0|    1.0|    0.0|    1.0|      0.0|   0.0|     0.0|\n",
      "|33.0| 4789.0|    0.0|     0.0| 1.0|    1.0|    1.0|    0.0|      1.0|   0.0|     0.0|\n",
      "|35.0| 1350.0|    0.0|     0.0| 0.0|    0.0|    1.0|    0.0|      0.0|   1.0|     1.0|\n",
      "|30.0| 1476.0|    0.0|     0.0| 1.0|    1.0|    1.0|    0.0|      0.0|   0.0|     1.0|\n",
      "|59.0|    0.0|    0.0|     0.0| 0.0|    1.0|    0.0|    0.0|      1.0|   0.0|     0.0|\n",
      "|35.0|  747.0|    0.0|     0.0| 0.0|    0.0|    1.0|    0.0|      0.0|   1.0|     1.0|\n",
      "|36.0|  307.0|    0.0|     0.0| 0.0|    1.0|    1.0|    0.0|      0.0|   0.0|     1.0|\n",
      "|39.0|  147.0|    0.0|     0.0| 0.0|    1.0|    0.0|    0.0|      1.0|   0.0|     0.0|\n",
      "|41.0|  221.0|    0.0|     0.0| 0.0|    1.0|    0.0|    0.0|      0.0|   0.0|     1.0|\n",
      "|43.0|  -88.0|    0.0|     0.0| 1.0|    1.0|    1.0|    1.0|      0.0|   0.0|     0.0|\n",
      "|39.0| 9374.0|    0.0|     0.0| 0.0|    1.0|    0.0|    0.0|      1.0|   0.0|     0.0|\n",
      "|43.0|  264.0|    0.0|     0.0| 0.0|    1.0|    0.0|    0.0|      1.0|   0.0|     0.0|\n",
      "|36.0| 1109.0|    0.0|     0.0| 0.0|    1.0|    0.0|    0.0|      0.0|   0.0|     1.0|\n",
      "|20.0|  502.0|    0.0|     0.0| 0.0|    0.0|    1.0|    0.0|      1.0|   1.0|     0.0|\n",
      "|31.0|  360.0|    0.0|     0.0| 1.0|    1.0|    1.0|    0.0|      1.0|   0.0|     0.0|\n",
      "|40.0|  194.0|    0.0|     0.0| 1.0|    1.0|    0.0|    0.0|      0.0|   0.0|     1.0|\n",
      "|56.0| 4073.0|    0.0|     0.0| 0.0|    1.0|    0.0|    0.0|      1.0|   0.0|     0.0|\n",
      "|37.0| 2317.0|    0.0|     0.0| 0.0|    0.0|    1.0|    0.0|      0.0|   1.0|     1.0|\n",
      "|25.0| -221.0|    0.0|     0.0| 0.0|    0.0|    0.0|    1.0|      0.0|   1.0|     0.0|\n",
      "|31.0|  132.0|    0.0|     0.0| 0.0|    1.0|    1.0|    0.0|      1.0|   0.0|     0.0|\n",
      "+----+-------+-------+--------+----+-------+-------+-------+---------+------+--------+\n",
      "only showing top 20 rows\n",
      "\n"
     ]
    }
   ],
   "source": [
    "bankDF.show()"
   ]
  },
  {
   "cell_type": "code",
   "execution_count": 12,
   "metadata": {},
   "outputs": [
    {
     "name": "stdout",
     "output_type": "stream",
     "text": [
      "Correlation between outcome and AGE -0.1823210432736525\n",
      "Correlation between outcome and BALANCE 0.03657486611997681\n",
      "Correlation between outcome and DEFAULT -0.04536965206737378\n",
      "Correlation between outcome and DIVORCED -0.07812659940926987\n",
      "Correlation between outcome and LOAN -0.030420586112717318\n",
      "Correlation between outcome and MARRIED -0.3753241299133561\n",
      "Correlation between outcome and OUTCOME 1.0\n",
      "Correlation between outcome and PRIMARY -0.12561548832677982\n",
      "Correlation between outcome and SECONDARY 0.026392774894072973\n",
      "Correlation between outcome and SINGLE 0.46323284934360515\n",
      "Correlation between outcome and TERTIARY 0.08494840766635618\n"
     ]
    }
   ],
   "source": [
    "#Correlation \n",
    "for i in bankDF.columns:\n",
    "    if not( isinstance(bankDF.select(i).take(1)[0][0], str)):\n",
    "        print(\"Correlation between outcome and\", i, bankDF.stat.corr('OUTCOME',i))"
   ]
  },
  {
   "cell_type": "markdown",
   "metadata": {
    "collapsed": true
   },
   "source": [
    "## Data Pre- Processing "
   ]
  },
  {
   "cell_type": "code",
   "execution_count": 17,
   "metadata": {
    "collapsed": true
   },
   "outputs": [],
   "source": [
    "# LabeledPoint (target, Vectors[features])\n",
    "def transformVar(row):\n",
    "    obj = (row[\"OUTCOME\"], Vectors.dense([row[\"AGE\"], row[\"BALANCE\"] , row[\"DEFAULT\"], row[\"DIVORCED\"], row[\"LOAN\"]\n",
    "                                         ,row[\"MARRIED\"], row[\"OUTCOME\"], row[\"PRIMARY\"], row[\"SECONDARY\"],\n",
    "                                          row[\"TERTIARY\"], row[\"SINGLE\"] ]))\n",
    "    return obj                                                           "
   ]
  },
  {
   "cell_type": "code",
   "execution_count": 22,
   "metadata": {},
   "outputs": [
    {
     "data": {
      "text/plain": [
       "[(0.0,\n",
       "  DenseVector([30.0, 1787.0, 0.0, 0.0, 0.0, 1.0, 0.0, 1.0, 0.0, 0.0, 0.0])),\n",
       " (1.0,\n",
       "  DenseVector([33.0, 4789.0, 0.0, 0.0, 1.0, 1.0, 1.0, 0.0, 1.0, 0.0, 0.0])),\n",
       " (1.0,\n",
       "  DenseVector([35.0, 1350.0, 0.0, 0.0, 0.0, 0.0, 1.0, 0.0, 0.0, 1.0, 1.0])),\n",
       " (1.0,\n",
       "  DenseVector([30.0, 1476.0, 0.0, 0.0, 1.0, 1.0, 1.0, 0.0, 0.0, 1.0, 0.0])),\n",
       " (0.0, DenseVector([59.0, 0.0, 0.0, 0.0, 0.0, 1.0, 0.0, 0.0, 1.0, 0.0, 0.0]))]"
      ]
     },
     "execution_count": 22,
     "metadata": {},
     "output_type": "execute_result"
    }
   ],
   "source": [
    "# Convert dataframe into rdd to use the map function\n",
    "bankRDD4 = bankDF.rdd.map(transformVar)\n",
    "bankRDD4.take(5)"
   ]
  },
  {
   "cell_type": "code",
   "execution_count": 26,
   "metadata": {},
   "outputs": [
    {
     "name": "stdout",
     "output_type": "stream",
     "text": [
      "+-----+--------------------+\n",
      "|label|            features|\n",
      "+-----+--------------------+\n",
      "|  0.0|[30.0,1787.0,0.0,...|\n",
      "|  1.0|[33.0,4789.0,0.0,...|\n",
      "|  1.0|[35.0,1350.0,0.0,...|\n",
      "|  1.0|[30.0,1476.0,0.0,...|\n",
      "|  0.0|[59.0,0.0,0.0,0.0...|\n",
      "|  1.0|[35.0,747.0,0.0,0...|\n",
      "|  1.0|[36.0,307.0,0.0,0...|\n",
      "|  0.0|[39.0,147.0,0.0,0...|\n",
      "|  0.0|[41.0,221.0,0.0,0...|\n",
      "|  1.0|[43.0,-88.0,0.0,0...|\n",
      "+-----+--------------------+\n",
      "only showing top 10 rows\n",
      "\n"
     ]
    }
   ],
   "source": [
    "# Visualize the data as dataframe\n",
    "bankDF = spSession.createDataFrame(bankRDD4, [\"label\", \"features\"])\n",
    "bankDF.select(\"label\", \"features\").show(10)"
   ]
  },
  {
   "cell_type": "markdown",
   "metadata": {},
   "source": [
    "## Machine Learning"
   ]
  },
  {
   "cell_type": "markdown",
   "metadata": {},
   "source": [
    "Let's use Principal Component analysis to reduce the dimensionality of the dataset due to its considerable number of variables.\n"
   ]
  },
  {
   "cell_type": "code",
   "execution_count": 27,
   "metadata": {},
   "outputs": [
    {
     "name": "stdout",
     "output_type": "stream",
     "text": [
      "+-----+------------------------------------------------------------+\n",
      "|label|pcaFeatures                                                 |\n",
      "+-----+------------------------------------------------------------+\n",
      "|0.0  |[-1787.0188971485131,28.86106203527629,-0.07804878148604315]|\n",
      "|1.0  |[-4789.020184400351,29.9127382479866,0.05513699055786786]   |\n",
      "|1.0  |[-1350.022220519092,34.09087337817735,1.8836485302341996]   |\n",
      "|1.0  |[-1476.0189590708485,29.041324405591645,0.6524643962591163] |\n",
      "|0.0  |[-0.037889185293237065,58.9873520580651,0.23505788947191042]|\n",
      "|1.0  |[-747.0223451357992,34.47800179608814,1.897358503632201]    |\n",
      "|1.0  |[-307.0230764865881,35.78949185789179,0.8368850167598223]   |\n",
      "|0.0  |[-147.02501215769811,38.89953006341547,-0.14905606782256242]|\n",
      "|0.0  |[-221.02629852878886,40.85201049112231,0.46645650809549283] |\n",
      "|1.0  |[87.97237948177352,43.051985386677245,0.636049715179434]    |\n",
      "|0.0  |[-9374.023105294744,32.97575906496965,-0.35884367071370504] |\n",
      "|0.0  |[-264.0275573080166,42.82310507531034,-0.07556186691999855] |\n",
      "|0.0  |[-1109.022903351538,35.283549079115694,0.3510737652809149]  |\n",
      "|1.0  |[-502.01274378231636,19.639563240671855,1.0382322093852379] |\n",
      "|1.0  |[-360.01981503799465,30.756829266880114,0.11775877689923125]|\n",
      "|0.0  |[-194.02563994195177,39.87004168584788,0.40442140289126277] |\n",
      "|0.0  |[-4073.035120456939,53.37345261535903,0.08533728553506337]  |\n",
      "|1.0  |[-2317.023305342545,35.4694002412194,1.899739725491312]     |\n",
      "|0.0  |[220.98389762532156,25.12250830842693,0.9619287598581353]   |\n",
      "|1.0  |[-132.01988399101947,30.90283672439369,0.16655304579921132] |\n",
      "+-----+------------------------------------------------------------+\n",
      "only showing top 20 rows\n",
      "\n"
     ]
    }
   ],
   "source": [
    "# apply PCA\n",
    "#Number of dimensions = 3, input = features and output = pcaFeatures\n",
    "bankPCA = PCA(k = 3 , inputCol=\"features\", outputCol=\"pcaFeatures\")\n",
    "pcaModel = bankPCA.fit(bankDF)\n",
    "pcaResult = pcaModel.transform(bankDF).select(\"label\", \"pcaFeatures\")\n",
    "pcaResult.show(truncate = False)\n"
   ]
  },
  {
   "cell_type": "code",
   "execution_count": 28,
   "metadata": {},
   "outputs": [
    {
     "data": {
      "text/plain": [
       "[Row(label=0.0, pcaFeatures=DenseVector([-1787.0189, 28.8611, -0.078]), Indexed=0.0),\n",
       " Row(label=1.0, pcaFeatures=DenseVector([-4789.0202, 29.9127, 0.0551]), Indexed=1.0),\n",
       " Row(label=1.0, pcaFeatures=DenseVector([-1350.0222, 34.0909, 1.8836]), Indexed=1.0),\n",
       " Row(label=1.0, pcaFeatures=DenseVector([-1476.019, 29.0413, 0.6525]), Indexed=1.0),\n",
       " Row(label=0.0, pcaFeatures=DenseVector([-0.0379, 58.9874, 0.2351]), Indexed=0.0)]"
      ]
     },
     "execution_count": 28,
     "metadata": {},
     "output_type": "execute_result"
    }
   ],
   "source": [
    "# Set numeric index\n",
    "string_Indexer = StringIndexer(inputCol= \"label\", outputCol= \"Indexed\")\n",
    "si_model = string_Indexer.fit(pcaResult)\n",
    "final_obj = si_model.transform(pcaResult)\n",
    "final_obj.collect()[:5]\n"
   ]
  },
  {
   "cell_type": "code",
   "execution_count": 29,
   "metadata": {
    "collapsed": true
   },
   "outputs": [],
   "source": [
    "# Split test and training dataset\n",
    "(training_set, test_set) = final_obj.randomSplit([0.7, 0.3])"
   ]
  },
  {
   "cell_type": "code",
   "execution_count": 30,
   "metadata": {},
   "outputs": [
    {
     "data": {
      "text/plain": [
       "385"
      ]
     },
     "execution_count": 30,
     "metadata": {},
     "output_type": "execute_result"
    }
   ],
   "source": [
    "training_set.count()"
   ]
  },
  {
   "cell_type": "code",
   "execution_count": 31,
   "metadata": {},
   "outputs": [
    {
     "data": {
      "text/plain": [
       "156"
      ]
     },
     "execution_count": 31,
     "metadata": {},
     "output_type": "execute_result"
    }
   ],
   "source": [
    "test_set.count()"
   ]
  },
  {
   "cell_type": "code",
   "execution_count": 32,
   "metadata": {
    "collapsed": true
   },
   "outputs": [],
   "source": [
    "# Model\n",
    "rfClassifier = RandomForestClassifier(labelCol= \"Indexed\", featuresCol= \"pcaFeatures\")\n",
    "model = rfClassifier.fit(training_set)"
   ]
  },
  {
   "cell_type": "code",
   "execution_count": 34,
   "metadata": {},
   "outputs": [
    {
     "data": {
      "text/plain": [
       "[Row(prediction=0.0, Indexed=0.0, label=0.0, pcaFeatures=DenseVector([-8104.0336, 49.7859, -0.0254])),\n",
       " Row(prediction=0.0, Indexed=0.0, label=0.0, pcaFeatures=DenseVector([-7190.0255, 37.3723, 1.0348])),\n",
       " Row(prediction=1.0, Indexed=0.0, label=0.0, pcaFeatures=DenseVector([-3096.0186, 27.9799, 0.7021])),\n",
       " Row(prediction=0.0, Indexed=0.0, label=0.0, pcaFeatures=DenseVector([-2843.0225, 34.1644, 0.4403])),\n",
       " Row(prediction=0.0, Indexed=0.0, label=0.0, pcaFeatures=DenseVector([-2693.02, 30.2673, -0.3402]))]"
      ]
     },
     "execution_count": 34,
     "metadata": {},
     "output_type": "execute_result"
    }
   ],
   "source": [
    "# Test the model\n",
    "predictions = model.transform(test_set)\n",
    "predictions.select(\"prediction\", \"Indexed\", \"label\", \"pcaFeatures\").collect()[:5]"
   ]
  },
  {
   "cell_type": "code",
   "execution_count": 37,
   "metadata": {},
   "outputs": [
    {
     "data": {
      "text/plain": [
       "0.7692307692307693"
      ]
     },
     "execution_count": 37,
     "metadata": {},
     "output_type": "execute_result"
    }
   ],
   "source": [
    "# Model Accuracy\n",
    "Acc = MulticlassClassificationEvaluator(predictionCol=\"prediction\", labelCol= \"Indexed\", metricName=\"accuracy\")\n",
    "Acc.evaluate(predictions)"
   ]
  },
  {
   "cell_type": "code",
   "execution_count": 38,
   "metadata": {},
   "outputs": [
    {
     "name": "stdout",
     "output_type": "stream",
     "text": [
      "+-------+----------+-----+\n",
      "|Indexed|prediction|count|\n",
      "+-------+----------+-----+\n",
      "|    1.0|       1.0|   45|\n",
      "|    0.0|       1.0|   16|\n",
      "|    1.0|       0.0|   20|\n",
      "|    0.0|       0.0|   75|\n",
      "+-------+----------+-----+\n",
      "\n"
     ]
    }
   ],
   "source": [
    "# Confusion Metrix to identify the number of classifications\n",
    "predictions.groupBy(\"Indexed\", \"prediction\").count().show()"
   ]
  }
 ],
 "metadata": {
  "kernelspec": {
   "display_name": "Python 3",
   "language": "python",
   "name": "python3"
  },
  "language_info": {
   "codemirror_mode": {
    "name": "ipython",
    "version": 3
   },
   "file_extension": ".py",
   "mimetype": "text/x-python",
   "name": "python",
   "nbconvert_exporter": "python",
   "pygments_lexer": "ipython3",
   "version": "3.6.1"
  }
 },
 "nbformat": 4,
 "nbformat_minor": 2
}
